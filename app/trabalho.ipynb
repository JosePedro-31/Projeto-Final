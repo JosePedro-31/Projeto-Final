{
 "cells": [
  {
   "cell_type": "markdown",
   "id": "7ffb1153",
   "metadata": {},
   "source": [
    "titulos # - subtitulos  ##"
   ]
  },
  {
   "cell_type": "markdown",
   "id": "18626823",
   "metadata": {},
   "source": [
    "# ***<p style=\"text-align:center;\">Análise de Texto através de Bases de Dados Vetoriais</p>***"
   ]
  },
  {
   "cell_type": "markdown",
   "id": "307a1420",
   "metadata": {},
   "source": [
    "explicar o porque de utilizar o  chromaDB neste projeto, -> explicar a o processo de pesquisa e assim"
   ]
  },
  {
   "cell_type": "markdown",
   "id": "8aaa3a5f",
   "metadata": {},
   "source": [
    "bibliotecas "
   ]
  },
  {
   "cell_type": "markdown",
   "id": "4577006d",
   "metadata": {},
   "source": [
    "### importação biblioteca para usar o sistemas de base de dados Chromadb"
   ]
  },
  {
   "cell_type": "code",
   "execution_count": null,
   "id": "aac2cc23",
   "metadata": {},
   "outputs": [],
   "source": [
    "import chromadb\n",
    "from chromadb.utils import embedding_functions"
   ]
  },
  {
   "cell_type": "markdown",
   "id": "bd2385c9",
   "metadata": {},
   "source": [
    "importação de funcionalidades cridas fazer a leitura de arquivos a ser usados durante este projeto"
   ]
  },
  {
   "cell_type": "code",
   "execution_count": null,
   "id": "e67b29ca",
   "metadata": {},
   "outputs": [],
   "source": [
    "import leitor"
   ]
  },
  {
   "cell_type": "markdown",
   "id": "6f2bae20",
   "metadata": {},
   "source": [
    "Importação de bibliotecas necessárias para obter a data e hora com o objetivo fututo de realizar o \"benchmarking\" dos diversos modelos de conversão de embeddings  "
   ]
  },
  {
   "cell_type": "code",
   "execution_count": null,
   "id": "21968aec",
   "metadata": {},
   "outputs": [],
   "source": [
    "import time \n",
    "from datetime import datetime\n",
    "import os"
   ]
  },
  {
   "cell_type": "markdown",
   "id": "0b851a24",
   "metadata": {},
   "source": [
    "Criar o cliente para o banco de dados ChromaDB"
   ]
  },
  {
   "cell_type": "code",
   "execution_count": null,
   "id": "a9aaea5a",
   "metadata": {},
   "outputs": [
    {
     "ename": "",
     "evalue": "",
     "output_type": "error",
     "traceback": [
      "\u001b[1;31mRunning cells with 'Python 3.12.3' requires the ipykernel package.\n",
      "\u001b[1;31m<a href='command:jupyter.createPythonEnvAndSelectController'>Create a Python Environment</a> with the required packages.\n",
      "\u001b[1;31mOr install 'ipykernel' using the command: '/bin/python3 -m pip install ipykernel -U --user --force-reinstall'"
     ]
    }
   ],
   "source": [
    "chroma_client = chromadb.Client()"
   ]
  },
  {
   "cell_type": "markdown",
   "id": "b62aae24",
   "metadata": {},
   "source": [
    "Escolher o modelo de embeddings, para a conversão do material fornecido pelo Utizador nos respetivos ficheiros \"data\" em embeddings vetoriais"
   ]
  },
  {
   "cell_type": "code",
   "execution_count": null,
   "id": "7a59d38b",
   "metadata": {},
   "outputs": [],
   "source": [
    "embedder = embedding_functions.SentenceTransformerEmbeddingFunction(\n",
    "    model_name=\"all-MiniLM-L6-v2\"\n",
    ")"
   ]
  },
  {
   "cell_type": "markdown",
   "id": "c5ab4160",
   "metadata": {},
   "source": [
    "Neste ponto podemos criar a coleção de embeddings numa estrutura de dados predefinida do ChromaDB.\n",
    "\n",
    "Uma coleção no ChromaDB é um agrupamento com nome de embeddings, dos seus documentos correspondentes e dos respetivos metadados, onde ocorre o processi de organizar, gerir e, de forma crucial, efetuar pesquisas por similaridade em dados vetorizados\n",
    "\n",
    "No caso do ChromaDB, uma coleção é o local fundamental onde se armazenam e organizam os embeddings vetoriais, os dados originais que estes representam, no caso do nosso projeto lidamos com texto, mas também é possivel em, por exemplo generico, imagens ou outros tipos de dados, e os metadados associados."
   ]
  },
  {
   "cell_type": "markdown",
   "id": "9d8a11f7",
   "metadata": {},
   "source": [
    "collection = chroma_client.get_or_create_collection(\n",
    "        name=\"my_collection\",\n",
    "        embedding_function=embedder, # modelo de embedding\n",
    "        metadata={\n",
    "        \"description\": \"my first Chroma collection\",\n",
    "        \"created\": str(datetime.now())\n",
    "        } \n",
    "    )"
   ]
  }
 ],
 "metadata": {
  "kernelspec": {
   "display_name": "Python 3",
   "language": "python",
   "name": "python3"
  },
  "language_info": {
   "name": "python",
   "version": "3.12.3"
  }
 },
 "nbformat": 4,
 "nbformat_minor": 5
}
