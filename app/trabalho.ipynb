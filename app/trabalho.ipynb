{
 "cells": [
  {
   "cell_type": "markdown",
   "id": "7ffb1153",
   "metadata": {},
   "source": [
    "titulos # - subtitulos  ##"
   ]
  },
  {
   "cell_type": "markdown",
   "id": "18626823",
   "metadata": {},
   "source": [
    "# ***<p style=\"text-align:center;\">Análise de Texto através de Bases de Dados Vetoriais</p>***"
   ]
  },
  {
   "cell_type": "markdown",
   "id": "a321bb00",
   "metadata": {},
   "source": [
    "## Resumo\n",
    "\n",
    "Este relatório representa o processo de desenvolvimento e implementação de uma Base de Dados Vetorial com o objetivo de serem identificados padrões de texto.\n",
    "\n",
    "Como Base de Dados vetorial decidimos utilizadr **ChromaDB** devido à sua excelente integração com Python aliada com a sua facilidade de configuração.  \n",
    "O Projeto dividiu-se essencialmente em 4 fases. **Aquição e Processamento de Dados**, **Geração de Embeddings**, **Armazenamento Vetorial** e **Identificação de Padrões**. Em seguida abordamos cada uma detalhadamente.\n",
    "\n",
    "Atualmente, é possível carregar variados tipos de ficheiros e pesquisar por um termo ou texto sendo obtido os ficheiros com o conteúdo mais similar."
   ]
  },
  {
   "cell_type": "markdown",
   "id": "b518b8d2",
   "metadata": {},
   "source": [
    "## Introdução"
   ]
  },
  {
   "cell_type": "markdown",
   "id": "4577006d",
   "metadata": {},
   "source": [
    "### importação biblioteca para usar o sistemas de base de dados Chromadb"
   ]
  },
  {
   "cell_type": "code",
   "execution_count": 6,
   "id": "aac2cc23",
   "metadata": {},
   "outputs": [],
   "source": [
    "import chromadb\n",
    "from chromadb.utils import embedding_functions"
   ]
  },
  {
   "cell_type": "markdown",
   "id": "bd2385c9",
   "metadata": {},
   "source": [
    "importação de funcionalidades cridas fazer a leitura de arquivos a ser usados durante este projeto"
   ]
  },
  {
   "cell_type": "code",
   "execution_count": 3,
   "id": "e67b29ca",
   "metadata": {},
   "outputs": [],
   "source": [
    "import leitor"
   ]
  },
  {
   "cell_type": "markdown",
   "id": "6f2bae20",
   "metadata": {},
   "source": [
    "Importação de bibliotecas necessárias para obter a data e hora com o objetivo fututo de realizar o \"benchmarking\" dos diversos modelos de conversão de embeddings  "
   ]
  },
  {
   "cell_type": "code",
   "execution_count": null,
   "id": "21968aec",
   "metadata": {},
   "outputs": [
    {
     "name": "stdout",
     "output_type": "stream",
     "text": [
      "None\n"
     ]
    }
   ],
   "source": [
    "import os"
   ]
  },
  {
   "cell_type": "markdown",
   "id": "0b851a24",
   "metadata": {},
   "source": [
    "Criar o cliente para o banco de dados ChromaDB"
   ]
  },
  {
   "cell_type": "code",
   "execution_count": 7,
   "id": "a9aaea5a",
   "metadata": {},
   "outputs": [],
   "source": [
    "chroma_client = chromadb.Client(\n",
    "    chromadb.config.Settings(chroma_server_host=\"chroma\", chroma_server_http_port=\"8000\")\n",
    ")"
   ]
  },
  {
   "cell_type": "markdown",
   "id": "b62aae24",
   "metadata": {},
   "source": [
    "Escolher o modelo de embeddings, para a conversão do material fornecido pelo Utizador nos respetivos ficheiros \"data\" em embeddings vetoriais"
   ]
  },
  {
   "cell_type": "code",
   "execution_count": 9,
   "id": "7a59d38b",
   "metadata": {},
   "outputs": [],
   "source": [
    "embedder = embedding_functions.SentenceTransformerEmbeddingFunction(\n",
    "    model_name=\"all-MiniLM-L6-v2\"\n",
    ")"
   ]
  },
  {
   "cell_type": "markdown",
   "id": "c5ab4160",
   "metadata": {},
   "source": [
    "Neste ponto podemos criar a coleção de embeddings numa estrutura de dados predefinida do ChromaDB.\n",
    "\n",
    "Uma coleção no ChromaDB é um agrupamento com nome de embeddings, dos seus documentos correspondentes e dos respetivos metadados, onde ocorre o processo de organização, gerir e, de forma crucial, efetuar pesquisas por similaridade em dados vetorizados\n",
    "\n",
    "No caso do ChromaDB, uma coleção é o local fundamental onde se armazenam e organizam os embeddings vetoriais, os dados originais que estes representam, no caso do nosso projeto trabalho com dados do tipo .doc, .pdf e .txt, e os metadados associados.\n",
    "\n",
    "Como é referido anteriormente, também é possivel trabalhar com outros tipo de dados, tendo o exemplo das imagens,\n",
    "\n",
    "Assim sendo, na criação da coleção, é necessário definir o nome da coleção  ( name=\"my_collection\" ), o modelo de embeddings ( embedding_function=embedder, sendo o embedder definido pelo Utilizador anteriormente) a utilizar e os metadados que se pretende associar a cada embedding.\n",
    "\n"
   ]
  },
  {
   "cell_type": "code",
   "execution_count": 10,
   "id": "9d8a11f7",
   "metadata": {},
   "outputs": [],
   "source": [
    "collection = chroma_client.get_or_create_collection(\n",
    "        name=\"my_collection\",\n",
    "        embedding_function=embedder, \n",
    "        metadata={\n",
    "        \"description\": \"my first Chroma collection\",\n",
    "        \"created\": str(datetime.now())\n",
    "        } \n",
    ")"
   ]
  },
  {
   "cell_type": "markdown",
   "id": "b618e969",
   "metadata": {},
   "source": [
    "Após a criação da coleção, criamos um dicionário vazio para armazenar os metadados associados a cada embedding, onde o nome do ficheiro é a chave e o conteúdo do ficheiro é o valor."
   ]
  },
  {
   "cell_type": "code",
   "execution_count": 11,
   "id": "e22d9753",
   "metadata": {},
   "outputs": [],
   "source": [
    "dados = {}"
   ]
  },
  {
   "cell_type": "markdown",
   "id": "b7bb5566",
   "metadata": {},
   "source": [
    "Função para adicionar os dados lidos dos ficheiros à coleção."
   ]
  },
  {
   "cell_type": "code",
   "execution_count": 12,
   "id": "e97c2bc8",
   "metadata": {},
   "outputs": [],
   "source": [
    "def adiciona_dados(collection, dados):\n",
    "        # Adicionar ficheiros à coleção\n",
    "        collection.add(\n",
    "            documents=list(dados.values()),  # lista de ficheiros\n",
    "            ids=[k for k in dados.keys()]    # ids dos ficheiros\n",
    "        )\n",
    "        print(f\"Foram adicionados {len(dados)} ficheiros.\")\n",
    "        # Limpar o dicionário para evitar adicionar os mesmos ficheiros novamente\n",
    "        dados.clear()"
   ]
  },
  {
   "cell_type": "markdown",
   "id": "d731b300",
   "metadata": {},
   "source": [
    "Ler ficheiros pdf"
   ]
  },
  {
   "cell_type": "code",
   "execution_count": null,
   "id": "736811b3",
   "metadata": {},
   "outputs": [
    {
     "ename": "FileNotFoundError",
     "evalue": "[WinError 3] O sistema não conseguiu localizar o caminho especificado: 'data\\\\pdf'",
     "output_type": "error",
     "traceback": [
      "\u001b[31m---------------------------------------------------------------------------\u001b[39m",
      "\u001b[31mFileNotFoundError\u001b[39m                         Traceback (most recent call last)",
      "\u001b[36mCell\u001b[39m\u001b[36m \u001b[39m\u001b[32mIn[24]\u001b[39m\u001b[32m, line 1\u001b[39m\n\u001b[32m----> \u001b[39m\u001b[32m1\u001b[39m \u001b[43mleitor\u001b[49m\u001b[43m.\u001b[49m\u001b[43mextract_text\u001b[49m\u001b[43m(\u001b[49m\u001b[33;43mr\u001b[39;49m\u001b[33;43m'\u001b[39;49m\u001b[33;43mdata\u001b[39;49m\u001b[33;43m\\\u001b[39;49m\u001b[33;43mpdf\u001b[39;49m\u001b[33;43m'\u001b[39;49m\u001b[43m,\u001b[49m\u001b[43m \u001b[49m\u001b[43mdados\u001b[49m\u001b[43m)\u001b[49m\n\u001b[32m      2\u001b[39m adiciona_dados(collection, dados)\n",
      "\u001b[36mFile \u001b[39m\u001b[32mc:\\Users\\pedro\\Desktop\\escola\\Projeto\\DB\\Projeto-Final\\app\\leitor.py:35\u001b[39m, in \u001b[36mextract_text\u001b[39m\u001b[34m(folder_path, text_data)\u001b[39m\n\u001b[32m     34\u001b[39m \u001b[38;5;28;01mdef\u001b[39;00m\u001b[38;5;250m \u001b[39m\u001b[34mextract_text\u001b[39m(folder_path, text_data):\n\u001b[32m---> \u001b[39m\u001b[32m35\u001b[39m     file_names = \u001b[43mos\u001b[49m\u001b[43m.\u001b[49m\u001b[43mlistdir\u001b[49m\u001b[43m(\u001b[49m\u001b[43mfolder_path\u001b[49m\u001b[43m)\u001b[49m\n\u001b[32m     36\u001b[39m     \u001b[38;5;28;01mfor\u001b[39;00m name \u001b[38;5;129;01min\u001b[39;00m file_names:\n\u001b[32m     37\u001b[39m         \u001b[38;5;66;03m# Get the full path of the file\u001b[39;00m\n\u001b[32m     38\u001b[39m         file_path = os.path.join(folder_path, name)\n",
      "\u001b[31mFileNotFoundError\u001b[39m: [WinError 3] O sistema não conseguiu localizar o caminho especificado: 'data\\\\pdf'"
     ]
    }
   ],
   "source": [
    "leitor.extract_text(r\"data\\pdf\", dados)\n",
    "adiciona_dados(collection, dados)"
   ]
  },
  {
   "cell_type": "markdown",
   "id": "ae950e1f",
   "metadata": {},
   "source": [
    "Ler ficheiros docx"
   ]
  },
  {
   "cell_type": "code",
   "execution_count": 25,
   "id": "556f70c5",
   "metadata": {},
   "outputs": [
    {
     "ename": "FileNotFoundError",
     "evalue": "[WinError 3] O sistema não conseguiu localizar o caminho especificado: 'data\\\\txt'",
     "output_type": "error",
     "traceback": [
      "\u001b[31m---------------------------------------------------------------------------\u001b[39m",
      "\u001b[31mFileNotFoundError\u001b[39m                         Traceback (most recent call last)",
      "\u001b[36mCell\u001b[39m\u001b[36m \u001b[39m\u001b[32mIn[25]\u001b[39m\u001b[32m, line 1\u001b[39m\n\u001b[32m----> \u001b[39m\u001b[32m1\u001b[39m \u001b[43mleitor\u001b[49m\u001b[43m.\u001b[49m\u001b[43mextract_text\u001b[49m\u001b[43m(\u001b[49m\u001b[33;43mr\u001b[39;49m\u001b[33;43m\"\u001b[39;49m\u001b[33;43mdata\u001b[39;49m\u001b[33;43m\\\u001b[39;49m\u001b[33;43mtxt\u001b[39;49m\u001b[33;43m\"\u001b[39;49m\u001b[43m,\u001b[49m\u001b[43m \u001b[49m\u001b[43mdados\u001b[49m\u001b[43m)\u001b[49m\n\u001b[32m      2\u001b[39m adiciona_dados(collection, dados)\n",
      "\u001b[36mFile \u001b[39m\u001b[32mc:\\Users\\pedro\\Desktop\\escola\\Projeto\\DB\\Projeto-Final\\app\\leitor.py:35\u001b[39m, in \u001b[36mextract_text\u001b[39m\u001b[34m(folder_path, text_data)\u001b[39m\n\u001b[32m     34\u001b[39m \u001b[38;5;28;01mdef\u001b[39;00m\u001b[38;5;250m \u001b[39m\u001b[34mextract_text\u001b[39m(folder_path, text_data):\n\u001b[32m---> \u001b[39m\u001b[32m35\u001b[39m     file_names = \u001b[43mos\u001b[49m\u001b[43m.\u001b[49m\u001b[43mlistdir\u001b[49m\u001b[43m(\u001b[49m\u001b[43mfolder_path\u001b[49m\u001b[43m)\u001b[49m\n\u001b[32m     36\u001b[39m     \u001b[38;5;28;01mfor\u001b[39;00m name \u001b[38;5;129;01min\u001b[39;00m file_names:\n\u001b[32m     37\u001b[39m         \u001b[38;5;66;03m# Get the full path of the file\u001b[39;00m\n\u001b[32m     38\u001b[39m         file_path = os.path.join(folder_path, name)\n",
      "\u001b[31mFileNotFoundError\u001b[39m: [WinError 3] O sistema não conseguiu localizar o caminho especificado: 'data\\\\txt'"
     ]
    }
   ],
   "source": [
    "leitor.extract_text(r\"data\\txt\", dados)\n",
    "adiciona_dados(collection, dados)"
   ]
  },
  {
   "cell_type": "markdown",
   "id": "e6aff25e",
   "metadata": {},
   "source": [
    "Ler ficheiros txt"
   ]
  },
  {
   "cell_type": "code",
   "execution_count": null,
   "id": "040f4a60",
   "metadata": {},
   "outputs": [],
   "source": [
    "leitor.extract_text(r\"data\\docx\", dados)\n",
    "adiciona_dados(collection, dados)"
   ]
  },
  {
   "cell_type": "markdown",
   "id": "80665042",
   "metadata": {},
   "source": [
    "Com a criação do dicionario realiazada, prpseguimos ao adicionar os metadados à coleção, utilizando o método add da coleção, onde passamos os embeddings, os metadados e o nome da coleção.\n",
    "A função add() é responsável por adicionar os embeddings à coleção, associando-os aos metadados correspondentes. O parâmetro \"ids\" é utilizado para identificar cada embedding de forma única, enquanto o parâmetro \"documents\" contém os dados originais que foram convertidos em embeddings. "
   ]
  },
  {
   "cell_type": "code",
   "execution_count": null,
   "id": "88fca9d8",
   "metadata": {},
   "outputs": [],
   "source": [
    "collection.add(\n",
    "    documents=list(dados.values()),  # lista de ficheiros\n",
    "    ids=[k for k in dados.keys()]    # ids dos ficheiros\n",
    ")"
   ]
  },
  {
   "cell_type": "markdown",
   "id": "178427e7",
   "metadata": {},
   "source": [
    "Neste momento, com o objetivo de realizar o \"benchmarking\" dos diversos modelos de conversão de embeddings, é necessário guardar a data e hora em que os embeddings foram adicionados à coleção. Para isso, utilizamos a biblioteca datetime para obter a data e hora atuais e armazená-las em uma variável chamada \"start_rime\", que sera inicializada antes do processo de obter os resultados da pesquisa por similaridade."
   ]
  },
  {
   "cell_type": "code",
   "execution_count": null,
   "id": "0bc4056a",
   "metadata": {},
   "outputs": [],
   "source": [
    "start_time = time.perf_counter()"
   ]
  },
  {
   "cell_type": "markdown",
   "id": "ae5cccd1",
   "metadata": {},
   "source": [
    "finalmente, o parâmetro \"results\" é onde realiazamos a pesquisa por similaridade, onde passamos o embedding que queremos pesquisar e o número de resultados que queremos obter. O resultado da pesquisa é armazenado na variável \"results\", que contém os embeddings mais semelhantes encontrados na coleção.\n",
    "\n",
    "A pesquisa por similaridade é uma operação fundamental em sistemas de recuperação de informações, onde o objetivo é encontrar os documentos mais relevantes com base em um vetor de consulta. O ChromaDB permite realizar essa pesquisa de forma eficiente, utilizando técnicas avançadas de indexação e recuperação.\n",
    "\n",
    "Para a sua execução, usamos o método query da coleção, onde passamos o embedding que queremos pesquisar e o número de resultados que queremos obter, ambos à escolha do utilizador. O resultado da pesquisa é armazenado na variável \"results\", que contém os embeddings mais semelhantes encontrados na coleção."
   ]
  },
  {
   "cell_type": "markdown",
   "id": "6e78f99f",
   "metadata": {},
   "source": [
    "O Utilizador pode escolher o Termo de pesquisa, desde que se seja uma string, para encontrar os resultados mais semelhantes, ou seja, o termo de pesquisa é a string que o utilizador quer pesquisar na coleção de embeddings."
   ]
  },
  {
   "cell_type": "code",
   "execution_count": null,
   "id": "67f38c9b",
   "metadata": {},
   "outputs": [],
   "source": [
    "prompt = input(\"Digite o termo que deseja pesquisar: \")"
   ]
  },
  {
   "cell_type": "markdown",
   "id": "1c90fb18",
   "metadata": {},
   "source": [
    "o Utilizador pode escolher o número de resultados que deseja obter, permitindo ajustar a pesquisa de acordo com suas necessidades específicas. Isso é especialmente útil em cenários onde o usuário está interessado em encontrar os documentos mais relevantes ou semelhantes a um determinado embedding de consulta."
   ]
  },
  {
   "cell_type": "code",
   "execution_count": null,
   "id": "cb9ae3d9",
   "metadata": {},
   "outputs": [],
   "source": [
    "n_resultados = int(input(\"Quantos resultados deseja obter:  \"))"
   ]
  },
  {
   "cell_type": "code",
   "execution_count": null,
   "id": "d85f7e98",
   "metadata": {},
   "outputs": [],
   "source": [
    "results = collection.query(\n",
    "        query_texts=[prompt],    # o que o utilizador quer pesquisar                  \n",
    "        n_results=n_resultados   # Número de resultados a serem retornados\n",
    ")"
   ]
  },
  {
   "cell_type": "markdown",
   "id": "dd5c43c9",
   "metadata": {},
   "source": [
    "logo apos a pesquisa, é necessário guardar a data e hora em que os embeddings foram adicionados à coleção. Para isso, utilizamos a biblioteca datetime para obter a data e hora atuais e armazená-las em uma variável chamada \"end_time\" e realizmos o calculo do tempo total de execução, subtraindo o tempo de início ao tempo de término. O resultado é armazenado na variável \"query_time\", que representa o total da duração para realizar a pesquisa por similaridade."
   ]
  },
  {
   "cell_type": "code",
   "execution_count": null,
   "id": "9e0e75d1",
   "metadata": {},
   "outputs": [],
   "source": [
    "end_time = time.perf_counter()\n",
    "query_time = end_time - start_time\n",
    "print(f\"Modelo de Embedding: all-MiniLM-L6-v2\\nTempo de pesquisa: {query_time:.4f} segundos\")"
   ]
  },
  {
   "cell_type": "code",
   "execution_count": null,
   "id": "f4357a98",
   "metadata": {},
   "outputs": [],
   "source": [
    "if results and results.get('documents') and len(results['documents'][0]) > 0:\n",
    "        num_results = len(results['documents'][0])\n",
    "        doc_text = []\n",
    "        titles = []\n",
    "        distance = []\n",
    "        for i in range(num_results):\n",
    "            doc_text.append(results['documents'][0][i])\n",
    "            distance.append(results['distances'][0][i])\n",
    "            doc_id_path = results['ids'][0][i]\n",
    "            titles.append(os.path.basename(doc_id_path))\n",
    "\n",
    "        leave = False\n",
    "        while not leave:\n",
    "            print(f\"\\n--- Pesquisas encontradas ---\\n\")   \n",
    "            j = 0 \n",
    "            for title in titles:\n",
    "                print(f\"--- Resultado {j+1} ---\")\n",
    "                print(f\"Ficheiro: {title}\")\n",
    "                print(f\"Distância de Similaridade: {distance[j]:.4f}\\n\")\n",
    "                j += 1\n",
    "                \n",
    "            print(\"Escolha um resultado para ver o conteúdo ou escreva 0 para sair.\")\n",
    "            choice = input(\"Digite o número do resultado desejado: \")\n",
    "            if choice == '0':\n",
    "                leave = True\n",
    "            else:\n",
    "                try:\n",
    "                    choice = int(choice) - 1  # Ajustar para índice 0\n",
    "                    if 0 <= choice < num_results:\n",
    "                        print(\"============================================\\n\")\n",
    "                        print(f\"Conteúdo do Resultado {choice + 1}:\")\n",
    "                        print(f\"Ficheiro: {titles[choice]}\")\n",
    "                        print(f\"{doc_text[choice]}\\n\\n\")\n",
    "                        \n",
    "                    else:\n",
    "                        print(\"Opção inválida!\")\n",
    "                except ValueError:\n",
    "                    print(\"Por favor, escreva apenas números.\")\n",
    "else:\n",
    "        print(\"Nenhum resultado encontrado.\")\n",
    "\n"
   ]
  },
  {
   "cell_type": "markdown",
   "id": "65407efb",
   "metadata": {},
   "source": [
    "Para finalizar, é necessário imprimir os resultados da pesquisa, onde apresentamos o nome do ficheiro, o conteúdo do ficheiro e o tempo total de execução. Para isso, utilizamos um loop para iterar sobre os resultados e imprimir as informações desejadas. O resultado final é uma lista dos documentos mais semelhantes encontrados na coleção, juntamente com o tempo total de execução da pesquisa."
   ]
  },
  {
   "cell_type": "markdown",
   "id": "b927fce0",
   "metadata": {},
   "source": [
    "Para finalizar, é necessario limpar a coleção, para isso utilizamos o método delete da coleção, onde passamos o nome da coleção que queremos eliminar. O resultado é uma coleção vazia, pronta para ser utilizada novamente."
   ]
  },
  {
   "cell_type": "code",
   "execution_count": null,
   "id": "add97d42",
   "metadata": {},
   "outputs": [],
   "source": [
    "ids = collection.get(include=[])\n",
    "for id in ids['ids']:\n",
    "    print(id)\n",
    "id = input(\"Digite o ID do ficheiro que deseja eliminar: \")\n",
    "if id in ids['ids']:\n",
    "    collection.delete(ids=[id])\n",
    "    print(f\"Ficheiro {id} eliminado com sucesso.\")\n",
    "else:\n",
    "    print(f\"Ficheiro {id} não encontrado.\")"
   ]
  },
  {
   "cell_type": "markdown",
   "id": "87c51401",
   "metadata": {},
   "source": [
    "Dentro da pasta app, existe um ficheiro chamado main.py, que é o ponto de entrada da aplicação. Este ficheiro contém o código principal que executa a aplicação e inicia um menu interativo para o utilizador. O menu permite ao utilizador escolher entre diferentes opções, como adicionar novos embeddings à coleção, realizar pesquisas por similaridade ou limpar a coleção existente."
   ]
  }
 ],
 "metadata": {
  "kernelspec": {
   "display_name": "Python 3",
   "language": "python",
   "name": "python3"
  },
  "language_info": {
   "codemirror_mode": {
    "name": "ipython",
    "version": 3
   },
   "file_extension": ".py",
   "mimetype": "text/x-python",
   "name": "python",
   "nbconvert_exporter": "python",
   "pygments_lexer": "ipython3",
   "version": "3.13.2"
  }
 },
 "nbformat": 4,
 "nbformat_minor": 5
}
