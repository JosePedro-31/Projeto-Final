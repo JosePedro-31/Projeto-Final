{
 "cells": [
  {
   "cell_type": "markdown",
   "id": "7ffb1153",
   "metadata": {},
   "source": [
    "titulos # - subtitulos  ##"
   ]
  },
  {
   "cell_type": "markdown",
   "id": "18626823",
   "metadata": {},
   "source": [
    "# ***<p style=\"text-align:center;\">Análise de Texto através de Bases de Dados Vetoriais</p>***"
   ]
  },
  {
   "cell_type": "markdown",
   "id": "a321bb00",
   "metadata": {},
   "source": [
    "## Resumo\n",
    "\n",
    "Este relatório representa o processo de desenvolvimento e implementação de uma Base de Dados Vetorial com o objetivo de serem identificados padrões de texto.\n",
    "\n",
    "Como Base de Dados vetorial decidimos utilizar **ChromaDB** devido à sua excelente integração com Python aliada com a sua facilidade de configuração.  \n",
    "O Projeto dividiu-se essencialmente em 3 fases. **Aquição e Processamento de Dados**, **Geração de Embeddings e Armazenamento Vetorial** e **Pesquisa por Similaridade**. Em seguida abordamos cada uma detalhadamente.\n",
    "\n",
    "Atualmente, é possível carregar variados tipos de ficheiros e pesquisar por um termo ou texto sendo obtido os ficheiros com o conteúdo mais similar."
   ]
  },
  {
   "cell_type": "markdown",
   "id": "b518b8d2",
   "metadata": {},
   "source": [
    "## Introdução\n",
    "\n",
    "Como mencionamos anteriormente o nosso projeto foi essencialmente divido em 3 fases.\n",
    "\n",
    "Relativamente à Aquisição e Processamendo de Dados, a nossa aplicação está preparada para ler ficheiros de texto de 3 tipos: PDF, TXT e DOCX. O conteúdo destes ficheiros é lido e guardado num dicionário onde a chave é o nome do ficheiro e o valor o conteúdo do mesmo.\n",
    "\n",
    "Quanto à Geração de Embeddings e Armazenamento Vetorial, usamos o modelo default do ChromaDB *\"all-MiniLM-L6-v2\"* que irá converter o texto para um vetor e armazená-lo na Base de Dados.\n",
    "\n",
    "Por fim, é efetuada a procura por similaridade. O Modelo converte a query (input do utilizador) e compara com os vetores previamente armazenados. Neste caso, o modelo escolhido por nós usa a Distância Euclidiana para calcular, onde a proximidade entre vetores representa a similaridade semântica. De seguida, retorna o número de resultados requisitado."
   ]
  },
  {
   "cell_type": "markdown",
   "id": "4577006d",
   "metadata": {},
   "source": [
    "### importação biblioteca para usar o sistemas de base de dados Chromadb"
   ]
  },
  {
   "cell_type": "code",
   "execution_count": 1,
   "id": "aac2cc23",
   "metadata": {},
   "outputs": [],
   "source": [
    "import chromadb\n",
    "from chromadb.utils import embedding_functions"
   ]
  },
  {
   "cell_type": "markdown",
   "id": "bd2385c9",
   "metadata": {},
   "source": [
    "importação de funcionalidades cridas fazer a leitura de arquivos a ser usados durante este projeto"
   ]
  },
  {
   "cell_type": "code",
   "execution_count": 2,
   "id": "e67b29ca",
   "metadata": {},
   "outputs": [],
   "source": [
    "import leitor"
   ]
  },
  {
   "cell_type": "markdown",
   "id": "6f2bae20",
   "metadata": {},
   "source": [
    "Importação de bibliotecas necessárias para obter a data e hora com o objetivo fututo de realizar o \"benchmarking\" dos diversos modelos de conversão de embeddings  "
   ]
  },
  {
   "cell_type": "code",
   "execution_count": 3,
   "id": "21968aec",
   "metadata": {},
   "outputs": [],
   "source": [
    "import os"
   ]
  },
  {
   "cell_type": "markdown",
   "id": "0b851a24",
   "metadata": {},
   "source": [
    "Criar o cliente para o ChromaDB"
   ]
  },
  {
   "cell_type": "code",
   "execution_count": 4,
   "id": "a9aaea5a",
   "metadata": {},
   "outputs": [],
   "source": [
    "chroma_client = chromadb.Client(\n",
    "    chromadb.config.Settings(chroma_server_host=\"chroma\", chroma_server_http_port=\"8000\")\n",
    ")"
   ]
  },
  {
   "cell_type": "markdown",
   "id": "b62aae24",
   "metadata": {},
   "source": [
    "Escolher o modelo de embeddings, para a conversão do material fornecido pelo Utizador nos respetivos ficheiros \"data\" em embeddings vetoriais"
   ]
  },
  {
   "cell_type": "code",
   "execution_count": 5,
   "id": "7a59d38b",
   "metadata": {},
   "outputs": [
    {
     "name": "stderr",
     "output_type": "stream",
     "text": [
      "c:\\Users\\José Pedro\\AppData\\Local\\Programs\\Python\\Python313\\Lib\\site-packages\\tqdm\\auto.py:21: TqdmWarning: IProgress not found. Please update jupyter and ipywidgets. See https://ipywidgets.readthedocs.io/en/stable/user_install.html\n",
      "  from .autonotebook import tqdm as notebook_tqdm\n"
     ]
    }
   ],
   "source": [
    "embedder = embedding_functions.SentenceTransformerEmbeddingFunction(\n",
    "    model_name=\"all-MiniLM-L6-v2\"\n",
    ")"
   ]
  },
  {
   "cell_type": "markdown",
   "id": "c5ab4160",
   "metadata": {},
   "source": [
    "Neste ponto podemos criar a coleção de embeddings numa estrutura de dados predefinida do ChromaDB.\n",
    "\n",
    "Uma coleção no ChromaDB é um agrupamento com nome de embeddings, dos seus documentos correspondentes e dos respetivos metadados, onde ocorre o processo de organização, gerir e, de forma crucial, efetuar pesquisas por similaridade em dados vetorizados\n",
    "\n",
    "No caso do ChromaDB, uma coleção é o local fundamental onde se armazenam e organizam os embeddings vetoriais, os dados originais que estes representam, no caso do nosso projeto trabalho com dados do tipo .doc, .pdf e .txt, e os metadados associados.\n",
    "\n",
    "Como é referido anteriormente, também é possivel trabalhar com outros tipo de dados, tendo o exemplo das imagens,\n",
    "\n",
    "Assim sendo, na criação da coleção, é necessário definir o nome da coleção  ( name=\"my_collection\" ), o modelo de embeddings ( embedding_function=embedder, sendo o embedder definido pelo Utilizador anteriormente) a utilizar e os metadados que se pretende associar a cada embedding.\n",
    "\n"
   ]
  },
  {
   "cell_type": "code",
   "execution_count": 6,
   "id": "9d8a11f7",
   "metadata": {},
   "outputs": [],
   "source": [
    "collection = chroma_client.get_or_create_collection(\n",
    "        name=\"my_collection\",\n",
    "        embedding_function=embedder, \n",
    ")"
   ]
  },
  {
   "cell_type": "markdown",
   "id": "b7bb5566",
   "metadata": {},
   "source": [
    "Função para adicionar os dados lidos dos ficheiros à coleção."
   ]
  },
  {
   "cell_type": "code",
   "execution_count": 7,
   "id": "e97c2bc8",
   "metadata": {},
   "outputs": [],
   "source": [
    "def adiciona_dados(collection, dados):\n",
    "    # Adicionar ficheiros à coleção\n",
    "    collection.add(\n",
    "        documents=list(dados.values()),  # lista de ficheiros\n",
    "        ids=[k for k in dados.keys()]    # ids dos ficheiros\n",
    "    )\n",
    "    print(f\"Foram adicionados {len(dados)} ficheiros.\")\n",
    "    # Limpar o dicionário para evitar adicionar os mesmos ficheiros novamente\n",
    "    dados.clear()"
   ]
  },
  {
   "cell_type": "markdown",
   "id": "b618e969",
   "metadata": {},
   "source": [
    "Após a criação da coleção, criamos um dicionário vazio para armazenar os metadados associados a cada embedding, onde o nome do ficheiro é a chave e o conteúdo do ficheiro é o valor."
   ]
  },
  {
   "cell_type": "code",
   "execution_count": 8,
   "id": "e22d9753",
   "metadata": {},
   "outputs": [],
   "source": [
    "dados = {}"
   ]
  },
  {
   "cell_type": "markdown",
   "id": "d731b300",
   "metadata": {},
   "source": [
    "Ler ficheiros pdf"
   ]
  },
  {
   "cell_type": "code",
   "execution_count": 9,
   "id": "736811b3",
   "metadata": {},
   "outputs": [
    {
     "name": "stdout",
     "output_type": "stream",
     "text": [
      "Foram adicionados 10 ficheiros.\n"
     ]
    }
   ],
   "source": [
    "leitor.extract_text(r\"..\\data/pdf\", dados)\n",
    "adiciona_dados(collection, dados)"
   ]
  },
  {
   "cell_type": "markdown",
   "id": "ae950e1f",
   "metadata": {},
   "source": [
    "Ler ficheiros docx"
   ]
  },
  {
   "cell_type": "code",
   "execution_count": 10,
   "id": "556f70c5",
   "metadata": {},
   "outputs": [
    {
     "name": "stdout",
     "output_type": "stream",
     "text": [
      "Foram adicionados 10 ficheiros.\n"
     ]
    }
   ],
   "source": [
    "leitor.extract_text(r\"..\\data/txt\", dados)\n",
    "adiciona_dados(collection, dados)"
   ]
  },
  {
   "cell_type": "markdown",
   "id": "e6aff25e",
   "metadata": {},
   "source": [
    "Ler ficheiros txt"
   ]
  },
  {
   "cell_type": "code",
   "execution_count": 11,
   "id": "040f4a60",
   "metadata": {},
   "outputs": [
    {
     "name": "stdout",
     "output_type": "stream",
     "text": [
      "Foram adicionados 10 ficheiros.\n"
     ]
    }
   ],
   "source": [
    "leitor.extract_text(r\"..\\data/docx\", dados)\n",
    "adiciona_dados(collection, dados)"
   ]
  },
  {
   "cell_type": "markdown",
   "id": "37d3483e",
   "metadata": {},
   "source": [
    "Para efetuar a pesquisa por similaridade, o utilizador escreve o termo ou texto que deseja pesquisar e o número de resultados que deseja obter. Através da função query o termo ou texto é convertido para um embedding e comparado com os embeddings armazenados na coleção, armazenando os resultados mais semelhantes na variável \"results\"."
   ]
  },
  {
   "cell_type": "code",
   "execution_count": 12,
   "id": "67f38c9b",
   "metadata": {},
   "outputs": [],
   "source": [
    "prompt = input(\"Digite o termo que deseja pesquisar: \")\n",
    "n_resultados = int(input(\"Quantos resultados deseja obter:  \"))\n",
    "results = collection.query(\n",
    "        query_texts=[prompt],    # o que o utilizador quer pesquisar                  \n",
    "        n_results=n_resultados   # Número de resultados a serem retornados\n",
    ")"
   ]
  },
  {
   "cell_type": "markdown",
   "id": "89dc1111",
   "metadata": {},
   "source": [
    "Após serem obtidos os resultados da pesquisa, processamos os resultados obtidos, extraindo os textos dos ficheiros correspondentes aos embeddings mais semelhantes encontrados na coleção assim como o nome do ficheiro e a distância entre o embedding de consulta e os embeddings encontrados na coleção."
   ]
  },
  {
   "cell_type": "code",
   "execution_count": 13,
   "id": "f4357a98",
   "metadata": {},
   "outputs": [],
   "source": [
    "num_results = len(results['documents'][0])\n",
    "doc_text = []\n",
    "titles = []\n",
    "distance = []\n",
    "for i in range(num_results):\n",
    "    doc_text.append(results['documents'][0][i])\n",
    "    distance.append(results['distances'][0][i])\n",
    "    doc_id_path = results['ids'][0][i]\n",
    "    titles.append(os.path.basename(doc_id_path))\n"
   ]
  },
  {
   "cell_type": "markdown",
   "id": "8510a0aa",
   "metadata": {},
   "source": [
    "Apresentamos ao utilizador os títulos dos ficheiros correspondentes aos embeddings mais semelhantes encontrados na coleção, juntamente com a distância entre o embedding de consulta e os embeddings encontrados na coleção. A distância é uma medida que indica o quão semelhante é o embedding de consulta em relação aos embeddings encontrados na coleção."
   ]
  },
  {
   "cell_type": "code",
   "execution_count": 14,
   "id": "587475be",
   "metadata": {},
   "outputs": [
    {
     "name": "stdout",
     "output_type": "stream",
     "text": [
      "\n",
      "--- Pesquisas encontradas ---\n",
      "\n",
      "--- Resultado 1 ---\n",
      "Ficheiro: Cinderela.pdf\n",
      "Distância de Similaridade: 1.5345\n",
      "\n",
      "--- Resultado 2 ---\n",
      "Ficheiro: O-Soldadinho-de-Chumbo.pdf\n",
      "Distância de Similaridade: 1.5567\n",
      "\n",
      "--- Resultado 3 ---\n",
      "Ficheiro: O talisman.docx\n",
      "Distância de Similaridade: 1.6004\n",
      "\n"
     ]
    }
   ],
   "source": [
    "print(f\"\\n--- Pesquisas encontradas ---\\n\")   \n",
    "j = 0 \n",
    "for title in titles:\n",
    "    print(f\"--- Resultado {j+1} ---\")\n",
    "    print(f\"Ficheiro: {title}\")\n",
    "    print(f\"Distância de Similaridade: {distance[j]:.4f}\\n\")\n",
    "    j += 1\n"
   ]
  },
  {
   "cell_type": "markdown",
   "id": "fbe8769e",
   "metadata": {},
   "source": [
    "O utilizador pode então selecionar o resultado que deseja visualizar, sendo exibido o conteúdo do ficheiro. "
   ]
  },
  {
   "cell_type": "code",
   "execution_count": 15,
   "id": "341cba09",
   "metadata": {},
   "outputs": [
    {
     "name": "stdout",
     "output_type": "stream",
     "text": [
      "============================================\n",
      "\n",
      "Conteúdo do Resultado 1:\n",
      "Ficheiro: Cinderela.pdf\n",
      "Há muito tempo, houve uma vez uma linda e doce menina. Quando ela era \n",
      "muito pequena, sua mãe ficou doente. No leito de morte, a mãe chamou sua \n",
      "filha para ela. Ela disse: “Sempre viva bem e honestamente e o mundo \n",
      "também será bom para você.” Logo após essas palavras, ela fechou seus \n",
      "olhos para sempre. O pai da menina era um rico homem de negócios que \n",
      "viajava muito. Pouco tempo depois da morte de sua esposa, ele se casou \n",
      "novamente.  \n",
      " \n",
      "Com sua nova esposa, o empresário teve mais duas filhas. Eram lindas por \n",
      "fora, mas horríveis por dentro e eram muito más com sua meia -irmã. \n",
      "Levaram suas belas roupas e fizeram -na fazer todas as tarefas da casa. À \n",
      "noite, ela não tinha permissão para dormir em uma cama macia, mas tinha \n",
      "que deitar na frente da lareira. Como resultado , suas roupas estavam \n",
      "sempre cobertas de cinzas e ela foi chamada de Cinderela. Cinderela \n",
      "pensava constantemente nas palavras de sua mãe e nunca reclamou de nada \n",
      "que ela tivesse que fazer.  \n",
      "This image has an empty alt attribute; its file name is Cinderella -1.png \n",
      " \n",
      "Quando o pai de Cinderela foi em outra viagem, ele perguntou às suas \n",
      "filhas o que elas queriam. As filhas mais novas pediram as roupas mais \n",
      "caras e as mais belas jóias. Cinderela só queria o primeiro galho que \n",
      "batesse na aba do chapéu de seu pai na viagem de volta. Na volta, o pai \n",
      "de Cinderela dirigiu sob uma árvore de avelã. Um galho passou por sua \n",
      "cabeça e ele se lembrou da promessa a sua filha mais velha. Em casa, \n",
      "Cinderela estava radiante com o galho. Ela plantou -o na sepultura de sua \n",
      "mãe e co meçou a chorar. Através de suas lágrimas, o galho cresceu em uma \n",
      "bela aveleira. Todos os dias Cinderela visitava a sepultura e todas as \n",
      "vezes havia um pequeno pássaro branco na árvore. Sempre que Cinderela \n",
      "desejava alguma coisa, o pequeno pássaro a realiza va. \n",
      " \n",
      "Quando todas as três meninas estavam velhas o suficiente para se casar, o \n",
      "rei organizou uma festa que duraria três dias. Todas as meninas bonitas \n",
      "do país foram convidadas. Afinal, o príncipe estava procurando uma noiva. \n",
      "As irmãs também foram convida das, mas sua madrasta não deixou Cinderela \n",
      "ir. ‘Você não tem nenhuma roupa bonita para usar na festa, de qualquer \n",
      "maneira’, disse a madrasta. Cinderela escutou, mas enquanto ajudava suas \n",
      "irmãs a pentear os cabelos e vestir os vestidos, ela chorou baixinho.  \n",
      "Assim que todos foram para o baile, Cinderela sentou -se sob a árvore de \n",
      "avelã e implorou ao pequeno pássaro por ouro e prata. Imediatamente, um \n",
      "vestido magnífico e sapatos combinando caíram. Cinderela rapidamente \n",
      "mudou de roupa e foi para o baile.  \n",
      "This image has an empty alt attribute; its file name is Cinderella -2.png \n",
      " \n",
      "Na festa, o príncipe não conseguia tirar os olhos de Cinderela e dançou \n",
      "com ela a noite toda. Ninguém reconheceu a garota. Quando o príncipe quis \n",
      "levá-la para casa, Cinderela fugiu rapid amente. Na segunda noite, a mesma \n",
      "coisa aconteceu. Em um vestido ainda mais bonito, Cinderela chegou à \n",
      "festa e dançou com o príncipe a noite toda. E novamente, ela foi embora \n",
      "antes que o príncipe soubesse quem ela era.  \n",
      " \n",
      "E na terceira noite da festa, Cind erela foi à aveleira novamente. Dessa \n",
      "vez ela conseguiu o vestido mais bonito que já viu e sapatos de ouro. \n",
      "Novamente, Cinderela e o príncipe dançaram a noite toda. Naquela noite, o \n",
      "príncipe estava determinado a não deixar que Cinderela escapasse e tinha feito as escadas pegajosas. Como resultado, Cinderela perdeu seu sapato \n",
      "esquerdo enquanto fugia para casa.  \n",
      " \n",
      "O príncipe pegou o sapato das escadas e decidiu ir em busca da garota. \n",
      "‘Aquela que couber neste sapato será minha esposa’. Muitas meninas \n",
      "tentaram colocar o sapato, mas não servia em ninguém. As irmãs más \n",
      "tentaram, mas ambas tinham pés muito grandes. ‘Posso tentar também? \n",
      "‘Perguntou Cinderela timidamente. Ela foi permitida e, para surpresa de \n",
      "todos, o sapato servia perfeitamente. Então o príncipe a r econheceu e a \n",
      "levou para o seu castelo. Cinderela e o príncipe se casaram e viveram \n",
      "felizes para sempre.  \n",
      "\n",
      "\n"
     ]
    }
   ],
   "source": [
    "\n",
    "choice = input(\"Digite o número do resultado desejado: \")\n",
    "try:\n",
    "    choice = int(choice) - 1  # Ajustar para índice 0\n",
    "    if 0 <= choice < num_results:\n",
    "        print(\"============================================\\n\")\n",
    "        print(f\"Conteúdo do Resultado {choice + 1}:\")\n",
    "        print(f\"Ficheiro: {titles[choice]}\")\n",
    "        print(f\"{doc_text[choice]}\\n\\n\")\n",
    "        \n",
    "    else:\n",
    "        print(\"Opção inválida!\")\n",
    "except ValueError:\n",
    "    print(\"Por favor, escreva apenas números.\")\n",
    "\n"
   ]
  },
  {
   "cell_type": "markdown",
   "id": "b927fce0",
   "metadata": {},
   "source": [
    "Para finalizar, também é possível eliminar dados da coleção, é apresentada ao utilizador uma lista com os ids (path do ficheiro) dos embeddings que pertencem à coleção. O utilizador pode escolher o id do embedding que deseja eliminar, sendo este removido da coleção."
   ]
  },
  {
   "cell_type": "code",
   "execution_count": 16,
   "id": "add97d42",
   "metadata": {},
   "outputs": [
    {
     "name": "stdout",
     "output_type": "stream",
     "text": [
      "..\\data/pdf\\A-rena-que-não-sabia-voar.pdf\n",
      "..\\data/pdf\\Bart_-O-Urso-vai-Hibernar.pdf\n",
      "..\\data/pdf\\Cinderela.pdf\n",
      "..\\data/pdf\\Medo-do-cabeleireiro.pdf\n",
      "..\\data/pdf\\O-Elfo-Travesso-E-O-Homem-Biscoito.pdf\n",
      "..\\data/pdf\\o-menino.pdf\n",
      "..\\data/pdf\\O-Soldadinho-de-Chumbo.pdf\n",
      "..\\data/pdf\\Rumpelstilzinho.pdf\n",
      "..\\data/pdf\\sodapdf-converted-1.pdf\n",
      "..\\data/pdf\\sodapdf-converted.pdf\n",
      "..\\data/txt\\A lupa e o binóculo.txt\n",
      "..\\data/txt\\Andar à caranguejo.txt\n",
      "..\\data/txt\\Conselhos de mocho não chegam ao chão.txt\n",
      "..\\data/txt\\Duas gaivotas.txt\n",
      "..\\data/txt\\Ele há cada nome….txt\n",
      "..\\data/txt\\Não havendo energia….txt\n",
      "..\\data/txt\\O pau de fósforo.txt\n",
      "..\\data/txt\\Quem caça quer caça.txt\n",
      "..\\data/txt\\Tem horas.txt\n",
      "..\\data/txt\\Zé desgraçado.txt\n",
      "..\\data/docx\\A alma.docx\n",
      "..\\data/docx\\A canção da cerejeira.docx\n",
      "..\\data/docx\\Alberto.docx\n",
      "..\\data/docx\\Doçura e bondade.docx\n",
      "..\\data/docx\\Não quero.docx\n",
      "..\\data/docx\\O ouro.docx\n",
      "..\\data/docx\\O pinheiro ambicioso.docx\n",
      "..\\data/docx\\O rico e o pobre.docx\n",
      "..\\data/docx\\O talisman.docx\n",
      "..\\data/docx\\Piloto.docx\n",
      "Ficheiro  não encontrado.\n"
     ]
    }
   ],
   "source": [
    "ids = collection.get(include=[])\n",
    "for id in ids['ids']:\n",
    "    print(id)\n",
    "id = input(\"Digite o ID do ficheiro que deseja eliminar: \")\n",
    "if id in ids['ids']:\n",
    "    collection.delete(ids=[id])\n",
    "    print(f\"Ficheiro {id} eliminado com sucesso.\")\n",
    "else:\n",
    "    print(f\"Ficheiro {id} não encontrado.\")"
   ]
  },
  {
   "cell_type": "markdown",
   "id": "87c51401",
   "metadata": {},
   "source": [
    "Dentro da pasta app, existe um ficheiro chamado main.py, que é o ponto de entrada da aplicação. Este ficheiro contém o código principal que executa a aplicação e inicia um menu interativo para o utilizador. O menu permite ao utilizador escolher entre diferentes opções, como adicionar novos embeddings à coleção, realizar pesquisas por similaridade ou limpar a coleção existente."
   ]
  }
 ],
 "metadata": {
  "kernelspec": {
   "display_name": "Python 3",
   "language": "python",
   "name": "python3"
  },
  "language_info": {
   "codemirror_mode": {
    "name": "ipython",
    "version": 3
   },
   "file_extension": ".py",
   "mimetype": "text/x-python",
   "name": "python",
   "nbconvert_exporter": "python",
   "pygments_lexer": "ipython3",
   "version": "3.13.3"
  }
 },
 "nbformat": 4,
 "nbformat_minor": 5
}
