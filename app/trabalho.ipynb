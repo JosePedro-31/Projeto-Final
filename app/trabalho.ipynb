{
 "cells": [
  {
   "cell_type": "markdown",
   "id": "7ffb1153",
   "metadata": {},
   "source": [
    "titulos # - subtitulos  ##"
   ]
  },
  {
   "cell_type": "markdown",
   "id": "18626823",
   "metadata": {},
   "source": [
    "# ***<p style=\"text-align:center;\">Análise de Texto através de Bases de Dados Vetoriais</p>***"
   ]
  },
  {
   "cell_type": "markdown",
   "id": "a321bb00",
   "metadata": {},
   "source": [
    "## Resumo\n",
    "\n",
    "Este relatório representa o processo de desenvolvimento e implementação de uma Base de Dados Vetorial com o objetivo de serem identificados padrões de texto.\n",
    "\n",
    "Como Base de Dados vetorial decidimos utilizadr **ChromaDB** devido à sua excelente integração com Python aliada com a sua facilidade de configuração.  \n",
    "O Projeto dividiu-se essencialmente em 4 fases. **Aquição e Processamento de Dados**, **Geração de Embeddings**, **Armazenamento Vetorial** e **Identificação de Padrões**. Em seguida abordamos cada uma detalhadamente.\n",
    "\n",
    "Atualmente, é possível carregar variados tipos de ficheiros e pesquisar por um termo ou texto sendo obtido os ficheiros com o conteúdo mais similar."
   ]
  },
  {
   "cell_type": "markdown",
   "id": "b518b8d2",
   "metadata": {},
   "source": [
    "## Introdução"
   ]
  },
  {
   "cell_type": "markdown",
   "id": "4577006d",
   "metadata": {},
   "source": [
    "### importação biblioteca para usar o sistemas de base de dados Chromadb"
   ]
  },
  {
   "cell_type": "code",
   "execution_count": null,
   "id": "aac2cc23",
   "metadata": {},
   "outputs": [],
   "source": [
    "import chromadb\n",
    "from chromadb.utils import embedding_functions"
   ]
  },
  {
   "cell_type": "markdown",
   "id": "bd2385c9",
   "metadata": {},
   "source": [
    "importação de funcionalidades cridas fazer a leitura de arquivos a ser usados durante este projeto"
   ]
  },
  {
   "cell_type": "code",
   "execution_count": null,
   "id": "e67b29ca",
   "metadata": {},
   "outputs": [],
   "source": [
    "import leitor"
   ]
  },
  {
   "cell_type": "markdown",
   "id": "6f2bae20",
   "metadata": {},
   "source": [
    "Importação de bibliotecas necessárias para obter a data e hora com o objetivo fututo de realizar o \"benchmarking\" dos diversos modelos de conversão de embeddings  "
   ]
  },
  {
   "cell_type": "code",
   "execution_count": null,
   "id": "21968aec",
   "metadata": {},
   "outputs": [],
   "source": [
    "import time \n",
    "from datetime import datetime\n",
    "import os"
   ]
  },
  {
   "cell_type": "markdown",
   "id": "0b851a24",
   "metadata": {},
   "source": [
    "Criar o cliente para o banco de dados ChromaDB"
   ]
  },
  {
   "cell_type": "code",
   "execution_count": null,
   "id": "a9aaea5a",
   "metadata": {},
   "outputs": [
    {
     "ename": "",
     "evalue": "",
     "output_type": "error",
     "traceback": [
      "\u001b[1;31mRunning cells with 'Python 3.12.3' requires the ipykernel package.\n",
      "\u001b[1;31m<a href='command:jupyter.createPythonEnvAndSelectController'>Create a Python Environment</a> with the required packages.\n",
      "\u001b[1;31mOr install 'ipykernel' using the command: '/bin/python3 -m pip install ipykernel -U --user --force-reinstall'"
     ]
    }
   ],
   "source": [
    "chroma_client = chromadb.Client()"
   ]
  },
  {
   "cell_type": "markdown",
   "id": "b62aae24",
   "metadata": {},
   "source": [
    "Escolher o modelo de embeddings, para a conversão do material fornecido pelo Utizador nos respetivos ficheiros \"data\" em embeddings vetoriais"
   ]
  },
  {
   "cell_type": "code",
   "execution_count": null,
   "id": "7a59d38b",
   "metadata": {},
   "outputs": [],
   "source": [
    "embedder = embedding_functions.SentenceTransformerEmbeddingFunction(\n",
    "    model_name=\"all-MiniLM-L6-v2\"\n",
    ")"
   ]
  },
  {
   "cell_type": "markdown",
   "id": "c5ab4160",
   "metadata": {},
   "source": [
    "Neste ponto podemos criar a coleção de embeddings numa estrutura de dados predefinida do ChromaDB.\n",
    "\n",
    "Uma coleção no ChromaDB é um agrupamento com nome de embeddings, dos seus documentos correspondentes e dos respetivos metadados, onde ocorre o processo de organização, gerir e, de forma crucial, efetuar pesquisas por similaridade em dados vetorizados\n",
    "\n",
    "No caso do ChromaDB, uma coleção é o local fundamental onde se armazenam e organizam os embeddings vetoriais, os dados originais que estes representam, no caso do nosso projeto trabalho com dados do tipo .doc, .pdf e .txt, e os metadados associados.\n",
    "\n",
    "Como é referido anteriormente, também é possivel trabalhar com outros tipo de dados, tendo o exemplo das imagens,\n",
    "\n",
    "Assim sendo, na criação da coleção, é necessário definir o nome da coleção  ( name=\"my_collection\" ), o modelo de embeddings ( embedding_function=embedder, sendo o embedder definido pelo Utilizador anteriormente) a utilizar e os metadados que se pretende associar a cada embedding.\n",
    "\n"
   ]
  },
  {
   "cell_type": "code",
   "execution_count": null,
   "id": "9d8a11f7",
   "metadata": {},
   "outputs": [],
   "source": [
    "collection = chroma_client.get_or_create_collection(\n",
    "        name=\"my_collection\",\n",
    "        embedding_function=embedder, \n",
    "        metadata={\n",
    "        \"description\": \"my first Chroma collection\",\n",
    "        \"created\": str(datetime.now())\n",
    "        } \n",
    ")"
   ]
  },
  {
   "cell_type": "markdown",
   "id": "b618e969",
   "metadata": {},
   "source": [
    "Após a criação da coleção, criamos um dicionário vazio para armazenar os metadados associados a cada embedding, onde o nome do ficheiro é a chave e o conteúdo do ficheiro é o valor."
   ]
  },
  {
   "cell_type": "code",
   "execution_count": null,
   "id": "e22d9753",
   "metadata": {},
   "outputs": [],
   "source": [
    "dados = {}"
   ]
  },
  {
   "cell_type": "markdown",
   "id": "80665042",
   "metadata": {},
   "source": [
    "Com a criação do dicionario realiazada, prpseguimos ao adicionar os metadados à coleção, utilizando o método add da coleção, onde passamos os embeddings, os metadados e o nome da coleção.\n",
    "A função add() é responsável por adicionar os embeddings à coleção, associando-os aos metadados correspondentes. O parâmetro \"ids\" é utilizado para identificar cada embedding de forma única, enquanto o parâmetro \"documents\" contém os dados originais que foram convertidos em embeddings. "
   ]
  },
  {
   "cell_type": "code",
   "execution_count": null,
   "id": "88fca9d8",
   "metadata": {},
   "outputs": [],
   "source": [
    "collection.add(\n",
    "    documents=list(dados.values()),  # lista de ficheiros\n",
    "    ids=[k for k in dados.keys()]    # ids dos ficheiros\n",
    ")"
   ]
  },
  {
   "cell_type": "markdown",
   "id": "178427e7",
   "metadata": {},
   "source": [
    "Neste momento, com o objetivo de realizar o \"benchmarking\" dos diversos modelos de conversão de embeddings, é necessário guardar a data e hora em que os embeddings foram adicionados à coleção. Para isso, utilizamos a biblioteca datetime para obter a data e hora atuais e armazená-las em uma variável chamada \"start_rime\", que sera inicializada antes do processo de obter os resultados da pesquisa por similaridade."
   ]
  },
  {
   "cell_type": "code",
   "execution_count": null,
   "id": "0bc4056a",
   "metadata": {},
   "outputs": [],
   "source": [
    "start_time = time.perf_counter()"
   ]
  },
  {
   "cell_type": "markdown",
   "id": "ae5cccd1",
   "metadata": {},
   "source": [
    "finalmente, o parâmetro \"results\" é onde realiazamos a pesquisa por similaridade, onde passamos o embedding que queremos pesquisar e o número de resultados que queremos obter. O resultado da pesquisa é armazenado na variável \"results\", que contém os embeddings mais semelhantes encontrados na coleção.\n",
    "\n",
    "A pesquisa por similaridade é uma operação fundamental em sistemas de recuperação de informações, onde o objetivo é encontrar os documentos mais relevantes com base em um vetor de consulta. O ChromaDB permite realizar essa pesquisa de forma eficiente, utilizando técnicas avançadas de indexação e recuperação.\n",
    "\n",
    "Para a sua execução, usamos o método query da coleção, onde passamos o embedding que queremos pesquisar e o número de resultados que queremos obter, ambos à escolha do utilizador. O resultado da pesquisa é armazenado na variável \"results\", que contém os embeddings mais semelhantes encontrados na coleção."
   ]
  },
  {
   "cell_type": "markdown",
   "id": "6e78f99f",
   "metadata": {},
   "source": [
    "O Utilizador pode escolher o Termo de pesquisa, desde que se seja uma string, para encontrar os resultados mais semelhantes, ou seja, o termo de pesquisa é a string que o utilizador quer pesquisar na coleção de embeddings."
   ]
  },
  {
   "cell_type": "code",
   "execution_count": null,
   "id": "67f38c9b",
   "metadata": {},
   "outputs": [],
   "source": [
    "prompt = input(\"Digite o termo que deseja pesquisar: \")"
   ]
  },
  {
   "cell_type": "markdown",
   "id": "1c90fb18",
   "metadata": {},
   "source": [
    "o Utilizador pode escolher o número de resultados que deseja obter, permitindo ajustar a pesquisa de acordo com suas necessidades específicas. Isso é especialmente útil em cenários onde o usuário está interessado em encontrar os documentos mais relevantes ou semelhantes a um determinado embedding de consulta."
   ]
  },
  {
   "cell_type": "code",
   "execution_count": null,
   "id": "cb9ae3d9",
   "metadata": {},
   "outputs": [],
   "source": [
    "n_resultados = int(input(\"Quantos resultados deseja obter:  \"))"
   ]
  },
  {
   "cell_type": "code",
   "execution_count": null,
   "id": "d85f7e98",
   "metadata": {},
   "outputs": [],
   "source": [
    "results = collection.query(\n",
    "        query_texts=[prompt],    # o que o utilizador quer pesquisar                  \n",
    "        n_results=n_resultados   # Número de resultados a serem retornados\n",
    ")"
   ]
  },
  {
   "cell_type": "markdown",
   "id": "dd5c43c9",
   "metadata": {},
   "source": [
    "logo apos a pesquisa, é necessário guardar a data e hora em que os embeddings foram adicionados à coleção. Para isso, utilizamos a biblioteca datetime para obter a data e hora atuais e armazená-las em uma variável chamada \"end_time\" e realizmos o calculo do tempo total de execução, subtraindo o tempo de início ao tempo de término. O resultado é armazenado na variável \"query_time\", que representa o total da duração para realizar a pesquisa por similaridade."
   ]
  },
  {
   "cell_type": "code",
   "execution_count": null,
   "id": "9e0e75d1",
   "metadata": {},
   "outputs": [],
   "source": [
    "end_time = time.perf_counter()\n",
    "query_time = end_time - start_time\n",
    "print(f\"Modelo de Embedding: all-MiniLM-L6-v2\\nTempo de pesquisa: {query_time:.4f} segundos\")"
   ]
  },
  {
   "cell_type": "code",
   "execution_count": null,
   "id": "f4357a98",
   "metadata": {},
   "outputs": [],
   "source": [
    "if results and results.get('documents') and len(results['documents'][0]) > 0:\n",
    "        num_results = len(results['documents'][0])\n",
    "        doc_text = []\n",
    "        titles = []\n",
    "        distance = []\n",
    "        for i in range(num_results):\n",
    "            doc_text.append(results['documents'][0][i])\n",
    "            distance.append(results['distances'][0][i])\n",
    "            doc_id_path = results['ids'][0][i]\n",
    "            titles.append(os.path.basename(doc_id_path))\n",
    "\n",
    "        leave = False\n",
    "        while not leave:\n",
    "            print(f\"\\n--- Pesquisas encontradas ---\\n\")   \n",
    "            j = 0 \n",
    "            for title in titles:\n",
    "                print(f\"--- Resultado {j+1} ---\")\n",
    "                print(f\"Ficheiro: {title}\")\n",
    "                print(f\"Distância de Similaridade: {distance[j]:.4f}\\n\")\n",
    "                j += 1\n",
    "                \n",
    "            print(\"Escolha um resultado para ver o conteúdo ou escreva 0 para sair.\")\n",
    "            choice = input(\"Digite o número do resultado desejado: \")\n",
    "            if choice == '0':\n",
    "                leave = True\n",
    "            else:\n",
    "                try:\n",
    "                    choice = int(choice) - 1  # Ajustar para índice 0\n",
    "                    if 0 <= choice < num_results:\n",
    "                        print(\"============================================\\n\")\n",
    "                        print(f\"Conteúdo do Resultado {choice + 1}:\")\n",
    "                        print(f\"Ficheiro: {titles[choice]}\")\n",
    "                        print(f\"{doc_text[choice]}\\n\\n\")\n",
    "                        \n",
    "                    else:\n",
    "                        print(\"Opção inválida!\")\n",
    "                except ValueError:\n",
    "                    print(\"Por favor, escreva apenas números.\")\n",
    "else:\n",
    "        print(\"Nenhum resultado encontrado.\")\n",
    "\n"
   ]
  },
  {
   "cell_type": "markdown",
   "id": "65407efb",
   "metadata": {},
   "source": [
    "Para finalizar, é necessário imprimir os resultados da pesquisa, onde apresentamos o nome do ficheiro, o conteúdo do ficheiro e o tempo total de execução. Para isso, utilizamos um loop para iterar sobre os resultados e imprimir as informações desejadas. O resultado final é uma lista dos documentos mais semelhantes encontrados na coleção, juntamente com o tempo total de execução da pesquisa."
   ]
  },
  {
   "cell_type": "markdown",
   "id": "b927fce0",
   "metadata": {},
   "source": [
    "Para finalizar, é necessario limpar a coleção, para isso utilizamos o método delete da coleção, onde passamos o nome da coleção que queremos eliminar. O resultado é uma coleção vazia, pronta para ser utilizada novamente."
   ]
  },
  {
   "cell_type": "code",
   "execution_count": null,
   "id": "add97d42",
   "metadata": {},
   "outputs": [],
   "source": [
    "ids = collection.get(include=[])\n",
    "for id in ids['ids']:\n",
    "    print(id)\n",
    "id = input(\"Digite o ID do ficheiro que deseja eliminar: \")\n",
    "if id in ids['ids']:\n",
    "    collection.delete(ids=[id])\n",
    "    print(f\"Ficheiro {id} eliminado com sucesso.\")\n",
    "else:\n",
    "    print(f\"Ficheiro {id} não encontrado.\")"
   ]
  },
  {
   "cell_type": "markdown",
   "id": "87c51401",
   "metadata": {},
   "source": [
    "Dentro da pasta app, existe um ficheiro chamado main.py, que é o ponto de entrada da aplicação. Este ficheiro contém o código principal que executa a aplicação e inicia um menu interativo para o utilizador. O menu permite ao utilizador escolher entre diferentes opções, como adicionar novos embeddings à coleção, realizar pesquisas por similaridade ou limpar a coleção existente."
   ]
  }
 ],
 "metadata": {
  "kernelspec": {
   "display_name": "Python 3",
   "language": "python",
   "name": "python3"
  },
  "language_info": {
   "name": "python",
   "version": "3.12.3"
  }
 },
 "nbformat": 4,
 "nbformat_minor": 5
}
