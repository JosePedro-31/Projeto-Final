{
 "cells": [
  {
   "cell_type": "markdown",
   "id": "7ffb1153",
   "metadata": {},
   "source": [
    "titulos # - subtitulos  ##"
   ]
  },
  {
   "cell_type": "markdown",
   "id": "18626823",
   "metadata": {},
   "source": [
    "# ***<p style=\"text-align:center;\">Análise de Texto através de Bases de Dados Vetoriais</p>***"
   ]
  },
  {
   "cell_type": "markdown",
   "id": "a321bb00",
   "metadata": {},
   "source": [
    "## Resumo\n",
    "\n",
    "Este relatório representa o processo de desenvolvimento e implementação de uma Base de Dados Vetorial com o objetivo de serem identificados padrões de texto.\n",
    "\n",
    "Como Base de Dados vetorial decidimos utilizadr **ChromaDB** devido à sua excelente integração com Python aliada com a sua facilidade de configuração.  \n",
    "O Projeto dividiu-se essencialmente em 4 fases. **Aquição e Processamento de Dados**, **Geração de Embeddings**, **Armazenamento Vetorial** e **Identificação de Padrões**. Em seguida abordamos cada uma detalhadamente.\n",
    "\n",
    "Atualmente, é possível carregar variados tipos de ficheiros e pesquisar por um termo ou texto sendo obtido os ficheiros com o conteúdo mais similar."
   ]
  },
  {
   "cell_type": "markdown",
   "id": "b518b8d2",
   "metadata": {},
   "source": [
    "## Introdução"
   ]
  },
  {
   "cell_type": "markdown",
   "id": "4577006d",
   "metadata": {},
   "source": [
    "### importação biblioteca para usar o sistemas de base de dados Chromadb"
   ]
  },
  {
   "cell_type": "code",
   "execution_count": 6,
   "id": "aac2cc23",
   "metadata": {},
   "outputs": [],
   "source": [
    "import chromadb\n",
    "from chromadb.utils import embedding_functions"
   ]
  },
  {
   "cell_type": "markdown",
   "id": "bd2385c9",
   "metadata": {},
   "source": [
    "importação de funcionalidades cridas fazer a leitura de arquivos a ser usados durante este projeto"
   ]
  },
  {
   "cell_type": "code",
   "execution_count": 3,
   "id": "e67b29ca",
   "metadata": {},
   "outputs": [],
   "source": [
    "import leitor"
   ]
  },
  {
   "cell_type": "markdown",
   "id": "6f2bae20",
   "metadata": {},
   "source": [
    "Importação de bibliotecas necessárias para obter a data e hora com o objetivo fututo de realizar o \"benchmarking\" dos diversos modelos de conversão de embeddings  "
   ]
  },
  {
   "cell_type": "code",
   "execution_count": 8,
   "id": "21968aec",
   "metadata": {},
   "outputs": [],
   "source": [
    "import os"
   ]
  },
  {
   "cell_type": "markdown",
   "id": "0b851a24",
   "metadata": {},
   "source": [
    "Criar o cliente para o banco de dados ChromaDB"
   ]
  },
  {
   "cell_type": "code",
   "execution_count": 7,
   "id": "a9aaea5a",
   "metadata": {},
   "outputs": [],
   "source": [
    "chroma_client = chromadb.Client(\n",
    "    chromadb.config.Settings(chroma_server_host=\"chroma\", chroma_server_http_port=\"8000\")\n",
    ")"
   ]
  },
  {
   "cell_type": "markdown",
   "id": "b62aae24",
   "metadata": {},
   "source": [
    "Escolher o modelo de embeddings, para a conversão do material fornecido pelo Utizador nos respetivos ficheiros \"data\" em embeddings vetoriais"
   ]
  },
  {
   "cell_type": "code",
   "execution_count": 9,
   "id": "7a59d38b",
   "metadata": {},
   "outputs": [],
   "source": [
    "embedder = embedding_functions.SentenceTransformerEmbeddingFunction(\n",
    "    model_name=\"all-MiniLM-L6-v2\"\n",
    ")"
   ]
  },
  {
   "cell_type": "markdown",
   "id": "c5ab4160",
   "metadata": {},
   "source": [
    "Neste ponto podemos criar a coleção de embeddings numa estrutura de dados predefinida do ChromaDB.\n",
    "\n",
    "Uma coleção no ChromaDB é um agrupamento com nome de embeddings, dos seus documentos correspondentes e dos respetivos metadados, onde ocorre o processo de organização, gerir e, de forma crucial, efetuar pesquisas por similaridade em dados vetorizados\n",
    "\n",
    "No caso do ChromaDB, uma coleção é o local fundamental onde se armazenam e organizam os embeddings vetoriais, os dados originais que estes representam, no caso do nosso projeto trabalho com dados do tipo .doc, .pdf e .txt, e os metadados associados.\n",
    "\n",
    "Como é referido anteriormente, também é possivel trabalhar com outros tipo de dados, tendo o exemplo das imagens,\n",
    "\n",
    "Assim sendo, na criação da coleção, é necessário definir o nome da coleção  ( name=\"my_collection\" ), o modelo de embeddings ( embedding_function=embedder, sendo o embedder definido pelo Utilizador anteriormente) a utilizar e os metadados que se pretende associar a cada embedding.\n",
    "\n"
   ]
  },
  {
   "cell_type": "code",
   "execution_count": null,
   "id": "9d8a11f7",
   "metadata": {},
   "outputs": [],
   "source": [
    "collection = chroma_client.get_or_create_collection(\n",
    "        name=\"my_collection\",\n",
    "        embedding_function=embedder, \n",
    ")"
   ]
  },
  {
   "cell_type": "markdown",
   "id": "b7bb5566",
   "metadata": {},
   "source": [
    "Função para adicionar os dados lidos dos ficheiros à coleção."
   ]
  },
  {
   "cell_type": "code",
   "execution_count": null,
   "id": "e97c2bc8",
   "metadata": {},
   "outputs": [],
   "source": [
    "def adiciona_dados(collection, dados):\n",
    "    # Adicionar ficheiros à coleção\n",
    "    collection.add(\n",
    "        documents=list(dados.values()),  # lista de ficheiros\n",
    "        ids=[k for k in dados.keys()]    # ids dos ficheiros\n",
    "    )\n",
    "    print(f\"Foram adicionados {len(dados)} ficheiros.\")\n",
    "    # Limpar o dicionário para evitar adicionar os mesmos ficheiros novamente\n",
    "    dados.clear()"
   ]
  },
  {
   "cell_type": "markdown",
   "id": "b618e969",
   "metadata": {},
   "source": [
    "Após a criação da coleção, criamos um dicionário vazio para armazenar os metadados associados a cada embedding, onde o nome do ficheiro é a chave e o conteúdo do ficheiro é o valor."
   ]
  },
  {
   "cell_type": "code",
   "execution_count": 5,
   "id": "e22d9753",
   "metadata": {},
   "outputs": [],
   "source": [
    "dados = {}"
   ]
  },
  {
   "cell_type": "markdown",
   "id": "d731b300",
   "metadata": {},
   "source": [
    "Ler ficheiros pdf"
   ]
  },
  {
   "cell_type": "code",
   "execution_count": 22,
   "id": "736811b3",
   "metadata": {},
   "outputs": [
    {
     "name": "stdout",
     "output_type": "stream",
     "text": [
      "..\\data/pdf\n"
     ]
    },
    {
     "ename": "NameError",
     "evalue": "name 'adiciona_dados' is not defined",
     "output_type": "error",
     "traceback": [
      "\u001b[31m---------------------------------------------------------------------------\u001b[39m",
      "\u001b[31mNameError\u001b[39m                                 Traceback (most recent call last)",
      "\u001b[36mCell\u001b[39m\u001b[36m \u001b[39m\u001b[32mIn[22]\u001b[39m\u001b[32m, line 2\u001b[39m\n\u001b[32m      1\u001b[39m leitor.extract_text(\u001b[33mr\u001b[39m\u001b[33m\"\u001b[39m\u001b[33m..\u001b[39m\u001b[33m\\\u001b[39m\u001b[33mdata/pdf\u001b[39m\u001b[33m\"\u001b[39m, dados)\n\u001b[32m----> \u001b[39m\u001b[32m2\u001b[39m \u001b[43madiciona_dados\u001b[49m(collection, dados)\n",
      "\u001b[31mNameError\u001b[39m: name 'adiciona_dados' is not defined"
     ]
    }
   ],
   "source": [
    "leitor.extract_text(r\"..\\data/pdf\", dados)\n",
    "adiciona_dados(collection, dados)"
   ]
  },
  {
   "cell_type": "markdown",
   "id": "ae950e1f",
   "metadata": {},
   "source": [
    "Ler ficheiros docx"
   ]
  },
  {
   "cell_type": "code",
   "execution_count": 24,
   "id": "556f70c5",
   "metadata": {},
   "outputs": [
    {
     "name": "stdout",
     "output_type": "stream",
     "text": [
      "..\\data/txt\n"
     ]
    },
    {
     "ename": "NameError",
     "evalue": "name 'adiciona_dados' is not defined",
     "output_type": "error",
     "traceback": [
      "\u001b[31m---------------------------------------------------------------------------\u001b[39m",
      "\u001b[31mNameError\u001b[39m                                 Traceback (most recent call last)",
      "\u001b[36mCell\u001b[39m\u001b[36m \u001b[39m\u001b[32mIn[24]\u001b[39m\u001b[32m, line 2\u001b[39m\n\u001b[32m      1\u001b[39m leitor.extract_text(\u001b[33mr\u001b[39m\u001b[33m\"\u001b[39m\u001b[33m..\u001b[39m\u001b[33m\\\u001b[39m\u001b[33mdata/txt\u001b[39m\u001b[33m\"\u001b[39m, dados)\n\u001b[32m----> \u001b[39m\u001b[32m2\u001b[39m \u001b[43madiciona_dados\u001b[49m(collection, dados)\n",
      "\u001b[31mNameError\u001b[39m: name 'adiciona_dados' is not defined"
     ]
    }
   ],
   "source": [
    "leitor.extract_text(r\"..\\data/txt\", dados)\n",
    "adiciona_dados(collection, dados)"
   ]
  },
  {
   "cell_type": "markdown",
   "id": "e6aff25e",
   "metadata": {},
   "source": [
    "Ler ficheiros txt"
   ]
  },
  {
   "cell_type": "code",
   "execution_count": 23,
   "id": "040f4a60",
   "metadata": {},
   "outputs": [
    {
     "name": "stdout",
     "output_type": "stream",
     "text": [
      "..\\data/docx\n"
     ]
    },
    {
     "ename": "NameError",
     "evalue": "name 'adiciona_dados' is not defined",
     "output_type": "error",
     "traceback": [
      "\u001b[31m---------------------------------------------------------------------------\u001b[39m",
      "\u001b[31mNameError\u001b[39m                                 Traceback (most recent call last)",
      "\u001b[36mCell\u001b[39m\u001b[36m \u001b[39m\u001b[32mIn[23]\u001b[39m\u001b[32m, line 2\u001b[39m\n\u001b[32m      1\u001b[39m leitor.extract_text(\u001b[33mr\u001b[39m\u001b[33m\"\u001b[39m\u001b[33m..\u001b[39m\u001b[33m\\\u001b[39m\u001b[33mdata/docx\u001b[39m\u001b[33m\"\u001b[39m, dados)\n\u001b[32m----> \u001b[39m\u001b[32m2\u001b[39m \u001b[43madiciona_dados\u001b[49m(collection, dados)\n",
      "\u001b[31mNameError\u001b[39m: name 'adiciona_dados' is not defined"
     ]
    }
   ],
   "source": [
    "leitor.extract_text(r\"..\\data/docx\", dados)\n",
    "adiciona_dados(collection, dados)"
   ]
  },
  {
   "cell_type": "markdown",
   "id": "37d3483e",
   "metadata": {},
   "source": [
    "Para efetuar a pesquisa por similaridade, o utilizador escreve o termo ou texto que deseja pesquisar e o número de resultados que deseja obter. Através da função query o termo ou texto é convertido para um embedding e comparado com os embeddings armazenados na coleção, armazenando os resultados mais semelhantes na variável \"results\"."
   ]
  },
  {
   "cell_type": "code",
   "execution_count": null,
   "id": "67f38c9b",
   "metadata": {},
   "outputs": [],
   "source": [
    "prompt = input(\"Digite o termo que deseja pesquisar: \")\n",
    "n_resultados = int(input(\"Quantos resultados deseja obter:  \"))\n",
    "results = collection.query(\n",
    "        query_texts=[prompt],    # o que o utilizador quer pesquisar                  \n",
    "        n_results=n_resultados   # Número de resultados a serem retornados\n",
    ")"
   ]
  },
  {
   "cell_type": "markdown",
   "id": "89dc1111",
   "metadata": {},
   "source": [
    "Após serem obtidos os resultados da pesquisa, processamos os resultados obtidos, extraindo os textos dos ficheiros correspondentes aos embeddings mais semelhantes encontrados na coleção assim como o nome do ficheiro e a distância entre o embedding de consulta e os embeddings encontrados na coleção."
   ]
  },
  {
   "cell_type": "code",
   "execution_count": null,
   "id": "f4357a98",
   "metadata": {},
   "outputs": [],
   "source": [
    "num_results = len(results['documents'][0])\n",
    "doc_text = []\n",
    "titles = []\n",
    "distance = []\n",
    "for i in range(num_results):\n",
    "    doc_text.append(results['documents'][0][i])\n",
    "    distance.append(results['distances'][0][i])\n",
    "    doc_id_path = results['ids'][0][i]\n",
    "    titles.append(os.path.basename(doc_id_path))\n"
   ]
  },
  {
   "cell_type": "markdown",
   "id": "8510a0aa",
   "metadata": {},
   "source": [
    "Apresentamos ao utilizador os títulos dos ficheiros correspondentes aos embeddings mais semelhantes encontrados na coleção, juntamente com a distância entre o embedding de consulta e os embeddings encontrados na coleção. A distância é uma medida que indica o quão semelhante é o embedding de consulta em relação aos embeddings encontrados na coleção."
   ]
  },
  {
   "cell_type": "code",
   "execution_count": null,
   "id": "587475be",
   "metadata": {},
   "outputs": [],
   "source": [
    "print(f\"\\n--- Pesquisas encontradas ---\\n\")   \n",
    "j = 0 \n",
    "for title in titles:\n",
    "    print(f\"--- Resultado {j+1} ---\")\n",
    "    print(f\"Ficheiro: {title}\")\n",
    "    print(f\"Distância de Similaridade: {distance[j]:.4f}\\n\")\n",
    "    j += 1\n"
   ]
  },
  {
   "cell_type": "markdown",
   "id": "fbe8769e",
   "metadata": {},
   "source": [
    "O utilizador pode então selecionar o resultado que deseja visualizar, sendo exibido o conteúdo do ficheiro. "
   ]
  },
  {
   "cell_type": "code",
   "execution_count": null,
   "id": "341cba09",
   "metadata": {},
   "outputs": [],
   "source": [
    "\n",
    "choice = input(\"Digite o número do resultado desejado: \")\n",
    "try:\n",
    "    choice = int(choice) - 1  # Ajustar para índice 0\n",
    "    if 0 <= choice < num_results:\n",
    "        print(\"============================================\\n\")\n",
    "        print(f\"Conteúdo do Resultado {choice + 1}:\")\n",
    "        print(f\"Ficheiro: {titles[choice]}\")\n",
    "        print(f\"{doc_text[choice]}\\n\\n\")\n",
    "        \n",
    "    else:\n",
    "        print(\"Opção inválida!\")\n",
    "except ValueError:\n",
    "    print(\"Por favor, escreva apenas números.\")\n",
    "\n"
   ]
  },
  {
   "cell_type": "markdown",
   "id": "b927fce0",
   "metadata": {},
   "source": [
    "Para finalizar, também é possível eliminar dados da coleção, é apresentada ao utilizador uma lista com os ids (path do ficheiro) dos embeddings que pertencem à coleção. O utilizador pode escolher o id do embedding que deseja eliminar, sendo este removido da coleção."
   ]
  },
  {
   "cell_type": "code",
   "execution_count": null,
   "id": "add97d42",
   "metadata": {},
   "outputs": [],
   "source": [
    "ids = collection.get(include=[])\n",
    "for id in ids['ids']:\n",
    "    print(id)\n",
    "id = input(\"Digite o ID do ficheiro que deseja eliminar: \")\n",
    "if id in ids['ids']:\n",
    "    collection.delete(ids=[id])\n",
    "    print(f\"Ficheiro {id} eliminado com sucesso.\")\n",
    "else:\n",
    "    print(f\"Ficheiro {id} não encontrado.\")"
   ]
  },
  {
   "cell_type": "markdown",
   "id": "87c51401",
   "metadata": {},
   "source": [
    "Dentro da pasta app, existe um ficheiro chamado main.py, que é o ponto de entrada da aplicação. Este ficheiro contém o código principal que executa a aplicação e inicia um menu interativo para o utilizador. O menu permite ao utilizador escolher entre diferentes opções, como adicionar novos embeddings à coleção, realizar pesquisas por similaridade ou limpar a coleção existente."
   ]
  }
 ],
 "metadata": {
  "kernelspec": {
   "display_name": "Python 3",
   "language": "python",
   "name": "python3"
  },
  "language_info": {
   "codemirror_mode": {
    "name": "ipython",
    "version": 3
   },
   "file_extension": ".py",
   "mimetype": "text/x-python",
   "name": "python",
   "nbconvert_exporter": "python",
   "pygments_lexer": "ipython3",
   "version": "3.13.2"
  }
 },
 "nbformat": 4,
 "nbformat_minor": 5
}
