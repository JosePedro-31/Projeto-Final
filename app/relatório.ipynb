{
 "cells": [
  {
   "cell_type": "markdown",
   "id": "18626823",
   "metadata": {},
   "source": [
    "# ***<p style=\"text-align:center;\">Análise de Texto através de Bases de Dados Vetoriais</p>***"
   ]
  },
  {
   "cell_type": "markdown",
   "id": "92c15f8e",
   "metadata": {},
   "source": [
    "Realizado pelo Grupo 14, constituído por:\n",
    "- José Loureiro, A96467\n",
    "- José Ferreira, A96798\n",
    "- Pedro Gonçalves, A101250"
   ]
  },
  {
   "cell_type": "markdown",
   "id": "a321bb00",
   "metadata": {},
   "source": [
    "## **Resumo**\n",
    "\n",
    "Este relatório representa o processo de desenvolvimento e implementação de uma Base de Dados Vetorial com o objetivo de serem identificados padrões de texto.\n",
    "\n",
    "Como Base de Dados vetorial decidimos utilizar **ChromaDB** devido à sua excelente integração com Python aliada com a sua facilidade de configuração.  \n",
    "O Projeto dividiu-se essencialmente em 3 fases. **Aquição e Processamento de Dados**, **Geração de Embeddings e Armazenamento Vetorial** e **Pesquisa por Similaridade**. Em seguida abordamos cada uma detalhadamente.\n",
    "\n",
    "Atualmente, é possível carregar variados tipos de ficheiros e pesquisar por um termo ou texto sendo obtido os ficheiros com o conteúdo mais similar."
   ]
  },
  {
   "cell_type": "markdown",
   "id": "b518b8d2",
   "metadata": {},
   "source": [
    "## **Introdução**\n",
    "\n",
    "Como mencionamos anteriormente o nosso projeto foi essencialmente dívido em 3 fases.\n",
    "\n",
    "Relativamente à Aquisição e Processamendo de Dados, a nossa aplicação está preparada para ler ficheiros de texto de 3 tipos: PDF, TXT e DOCX. O conteúdo destes ficheiros é lido e guardado num dicionário onde a chave é o *path* do ficheiro e o valor o conteúdo do mesmo.\n",
    "\n",
    "Quanto à Geração de Embeddings e Armazenamento Vetorial, usamos o modelo default do ChromaDB *\"all-MiniLM-L6-v2\"* que irá converter o texto para um vetor e armazená-lo na Base de Dados.\n",
    "\n",
    "Por fim, é efetuada a procura por similaridade. O Modelo converte a query (input do utilizador) e compara com os vetores previamente armazenados. Neste caso, o modelo escolhido pelo grupo usa a Distância Euclidiana para calcular, onde a proximidade entre vetores representa a similaridade semântica. De seguida, retorna o número de resultados requisitado."
   ]
  },
  {
   "cell_type": "markdown",
   "id": "4577006d",
   "metadata": {},
   "source": [
    "Importação biblioteca para usar o sistemas de base de dados Chromadb"
   ]
  },
  {
   "cell_type": "code",
   "execution_count": null,
   "id": "aac2cc23",
   "metadata": {},
   "outputs": [],
   "source": [
    "import chromadb\n",
    "from chromadb.utils import embedding_functions"
   ]
  },
  {
   "cell_type": "markdown",
   "id": "bd2385c9",
   "metadata": {},
   "source": [
    "Importação de funcionalidades cridas fazer a leitura de arquivos a serem usados durante este projeto"
   ]
  },
  {
   "cell_type": "code",
   "execution_count": null,
   "id": "e67b29ca",
   "metadata": {},
   "outputs": [],
   "source": [
    "import leitor\n",
    "import os"
   ]
  },
  {
   "cell_type": "markdown",
   "id": "0b851a24",
   "metadata": {},
   "source": [
    "Criar o cliente para o ChromaDB"
   ]
  },
  {
   "cell_type": "code",
   "execution_count": null,
   "id": "a9aaea5a",
   "metadata": {},
   "outputs": [],
   "source": [
    "chroma_client = chromadb.Client(\n",
    "    chromadb.config.Settings(chroma_server_host=\"chroma\", chroma_server_http_port=\"8000\")\n",
    ")"
   ]
  },
  {
   "cell_type": "markdown",
   "id": "b62aae24",
   "metadata": {},
   "source": [
    "Relativamente ao modelo de embedding escolhido, com base no benchmark do ChromaDB, o modelo *\"all-MiniLM-L6-v2\"* é um dos melhores modelos disponíveis para a tarefa de embeddings de texto. Para além disso, com base na imagem abaixo, podemos ver que o modelo *\"all-MiniLM-L6-v2\"* é um dos modelos mais equilibrados, tendo um tamanho reduzido e uma boa performance em termos de velocidade de embedding e de pesquisa."
   ]
  },
  {
   "cell_type": "markdown",
   "id": "cba79237",
   "metadata": {},
   "source": [
    "![alt text](../images/benchmark.jpg)"
   ]
  },
  {
   "cell_type": "markdown",
   "id": "18897db4",
   "metadata": {},
   "source": [
    "Para complementar estes benchmarks, realizamos alguns testes de performance com diferentes modelos de embeddings, testando a velocidade de pesquisa. O teste consistiu em realizar uma pesquisa por um termo específico e medir o tempo necessário para retornar os resultados. Utilizamos um conjunto de documentos variados para garantir que os testes fossem representativos.\n",
    " \n",
    "Os resultados foram os seguintes:"
   ]
  },
  {
   "cell_type": "markdown",
   "id": "1947c378",
   "metadata": {},
   "source": [
    "![all-MiniLM-L6-v2](../images/all-MiniLM-L6-v2.jpg)![alt text](../images/all-mpnet-base-v2.jpg)![alt text](../images/multi-qa-mpnet-base-dot-v1.jpg)![alt text](../images/paraphare-albert-small-v2.jpg)![alt text](../images/paraphrase-multilingual-mpnet-base-v2.jpg)"
   ]
  },
  {
   "cell_type": "markdown",
   "id": "a9ff0eff",
   "metadata": {},
   "source": [
    "Com base nos resultados obtidos, optamos por utilizar o modelo *\"all-MiniLM-L6-v2\"*"
   ]
  },
  {
   "cell_type": "code",
   "execution_count": null,
   "id": "7a59d38b",
   "metadata": {},
   "outputs": [],
   "source": [
    "embedder = embedding_functions.SentenceTransformerEmbeddingFunction(\n",
    "    model_name=\"all-MiniLM-L6-v2\"\n",
    ")"
   ]
  },
  {
   "cell_type": "markdown",
   "id": "c5ab4160",
   "metadata": {},
   "source": [
    "Neste ponto podemos criar a coleção de embeddings numa estrutura de dados predefinida do ChromaDB.\n",
    "\n",
    "No ChromaDB uma coleção é o local fundamental onde se armazenam e organizam os embeddings vetoriais e os dados originais que estes representam, no caso do nosso projeto trabalha com dados do tipo .docx, .pdf e .txt.\n",
    "\n",
    "Assim sendo, na criação da coleção, é necessário definir o nome da coleção  ( name=\"my_collection\" ) e o modelo de embeddings ( embedding_function=embedder, sendo a variável embedder definida pelo Utilizador anteriormente) que irá efetuar a conversão de texto para vetor."
   ]
  },
  {
   "cell_type": "code",
   "execution_count": null,
   "id": "9d8a11f7",
   "metadata": {},
   "outputs": [],
   "source": [
    "collection = chroma_client.get_or_create_collection(\n",
    "        name=\"my_collection\",\n",
    "        embedding_function=embedder, \n",
    ")"
   ]
  },
  {
   "cell_type": "markdown",
   "id": "b618e969",
   "metadata": {},
   "source": [
    "Após a criação da coleção, criamos um dicionário vazio para armazenar os textos dos ficheiros lidos, onde o *path* do ficheiro é a chave e o conteúdo do ficheiro é seu o valor."
   ]
  },
  {
   "cell_type": "code",
   "execution_count": null,
   "id": "e22d9753",
   "metadata": {},
   "outputs": [],
   "source": [
    "dados = {}"
   ]
  },
  {
   "cell_type": "markdown",
   "id": "b7bb5566",
   "metadata": {},
   "source": [
    "Função criada com o objetivo de adicionar o conteudo do nosso dicionário `dados` à coleção."
   ]
  },
  {
   "cell_type": "code",
   "execution_count": null,
   "id": "e97c2bc8",
   "metadata": {},
   "outputs": [],
   "source": [
    "def adiciona_dados(collection, dados):\n",
    "    # Adicionar ficheiros à coleção\n",
    "    collection.add(\n",
    "        documents=list(dados.values()),  # lista de ficheiros\n",
    "        ids=[k for k in dados.keys()]    # ids dos ficheiros\n",
    "    )\n",
    "    print(f\"Foram adicionados {len(dados)} ficheiros.\")\n",
    "    # Limpar o dicionário para evitar adicionar os mesmos ficheiros novamente\n",
    "    dados.clear()"
   ]
  },
  {
   "cell_type": "markdown",
   "id": "4fdff12f",
   "metadata": {},
   "source": [
    "No ficheiro Leitor.py, presente no diretório da app, é criada a função `ler_ficheiros` que recebe o caminho do diretório onde se encontram os ficheiros a serem lidos. Esta função percorre todos os ficheiros do diretório e lê o conteúdo de cada um, armazenando-o no dicionário `dados`. "
   ]
  },
  {
   "cell_type": "markdown",
   "id": "d731b300",
   "metadata": {},
   "source": [
    "Ler ficheiros pdf e armazenar o conteúdo na coleção"
   ]
  },
  {
   "cell_type": "code",
   "execution_count": null,
   "id": "736811b3",
   "metadata": {},
   "outputs": [],
   "source": [
    "leitor.extract_text(r\"..\\data/pdf\", dados)\n",
    "adiciona_dados(collection, dados)"
   ]
  },
  {
   "cell_type": "markdown",
   "id": "ae950e1f",
   "metadata": {},
   "source": [
    "Ler ficheiros docx e armazenar o conteúdo na coleção"
   ]
  },
  {
   "cell_type": "code",
   "execution_count": null,
   "id": "556f70c5",
   "metadata": {},
   "outputs": [],
   "source": [
    "leitor.extract_text(r\"..\\data/txt\", dados)\n",
    "adiciona_dados(collection, dados)"
   ]
  },
  {
   "cell_type": "markdown",
   "id": "e6aff25e",
   "metadata": {},
   "source": [
    "Ler ficheiros txt e armazenar o conteúdo na coleção"
   ]
  },
  {
   "cell_type": "code",
   "execution_count": null,
   "id": "040f4a60",
   "metadata": {},
   "outputs": [],
   "source": [
    "leitor.extract_text(r\"..\\data/docx\", dados)\n",
    "adiciona_dados(collection, dados)"
   ]
  },
  {
   "cell_type": "markdown",
   "id": "37d3483e",
   "metadata": {},
   "source": [
    "Para efetuar a pesquisa por similaridade, o utilizador escreve o termo ou texto que deseja pesquisar e o número de resultados que deseja obter. Através da função query o termo ou texto é convertido para um embedding e comparado com os embeddings armazenados na coleção, armazenando os resultados mais semelhantes na variável \"results\"."
   ]
  },
  {
   "cell_type": "code",
   "execution_count": null,
   "id": "67f38c9b",
   "metadata": {},
   "outputs": [],
   "source": [
    "prompt = input(\"Digite o termo que deseja pesquisar: \")\n",
    "n_resultados = int(input(\"Quantos resultados deseja obter:  \"))\n",
    "results = collection.query(\n",
    "        query_texts=[prompt],    # o que o utilizador quer pesquisar                  \n",
    "        n_results=n_resultados   # Número de resultados a serem retornados\n",
    ")"
   ]
  },
  {
   "cell_type": "markdown",
   "id": "89dc1111",
   "metadata": {},
   "source": [
    "Após serem obtidos os resultados da pesquisa, processamos os resultados obtidos, extraindo os textos dos ficheiros correspondentes aos embeddings mais semelhantes encontrados na coleção, assim como o nome do ficheiro e a distância Euclideana entre o embedding de consulta e os embeddings encontrados na coleção. A distância Euclidiana é uma medida de similaridade entre vetores, assumindo um valor no intervalo $[0,+∞[$ sendo que quanto mais proximo o valor de 0, mais similares são os vetores."
   ]
  },
  {
   "cell_type": "code",
   "execution_count": null,
   "id": "f4357a98",
   "metadata": {},
   "outputs": [],
   "source": [
    "num_results = len(results['documents'][0])\n",
    "doc_text = []\n",
    "titles = []\n",
    "distance = []\n",
    "for i in range(num_results):\n",
    "    doc_text.append(results['documents'][0][i])\n",
    "    distance.append(results['distances'][0][i])\n",
    "    doc_id_path = results['ids'][0][i]\n",
    "    titles.append(os.path.basename(doc_id_path))\n"
   ]
  },
  {
   "cell_type": "markdown",
   "id": "8510a0aa",
   "metadata": {},
   "source": [
    "Apresentamos ao utilizador os títulos dos ficheiros correspondentes aos embeddings mais semelhantes encontrados na coleção, juntamente com a distância entre o embedding de consulta e os embeddings encontrados na coleção."
   ]
  },
  {
   "cell_type": "code",
   "execution_count": null,
   "id": "587475be",
   "metadata": {},
   "outputs": [],
   "source": [
    "print(f\"\\n--- Pesquisas encontradas ---\\n\")   \n",
    "j = 0 \n",
    "for title in titles:\n",
    "    print(f\"--- Resultado {j+1} ---\")\n",
    "    print(f\"Ficheiro: {title}\")\n",
    "    print(f\"Distância de Similaridade: {distance[j]:.4f}\\n\")\n",
    "    j += 1\n"
   ]
  },
  {
   "cell_type": "markdown",
   "id": "fbe8769e",
   "metadata": {},
   "source": [
    "O utilizador pode então selecionar o resultado que deseja visualizar, sendo exibido o conteúdo do ficheiro. "
   ]
  },
  {
   "cell_type": "code",
   "execution_count": null,
   "id": "341cba09",
   "metadata": {},
   "outputs": [],
   "source": [
    "\n",
    "choice = input(\"Digite o número do resultado desejado: \")\n",
    "try:\n",
    "    choice = int(choice) - 1  # Ajustar para índice 0\n",
    "    if 0 <= choice < num_results:\n",
    "        print(\"============================================\\n\")\n",
    "        print(f\"Conteúdo do Resultado {choice + 1}:\")\n",
    "        print(f\"Ficheiro: {titles[choice]}\")\n",
    "        print(f\"{doc_text[choice]}\\n\\n\")\n",
    "        \n",
    "    else:\n",
    "        print(\"Opção inválida!\")\n",
    "except ValueError:\n",
    "    print(\"Por favor, escreva apenas números.\")\n",
    "\n"
   ]
  },
  {
   "cell_type": "markdown",
   "id": "b927fce0",
   "metadata": {},
   "source": [
    "Para finalizar, também é possível eliminar dados da coleção, é apresentada ao utilizador uma lista com os ids (*path* do ficheiro) dos embeddings que pertencem à coleção. O utilizador pode escolher o id do embedding que deseja eliminar, sendo este removido da coleção."
   ]
  },
  {
   "cell_type": "code",
   "execution_count": null,
   "id": "add97d42",
   "metadata": {},
   "outputs": [],
   "source": [
    "ids = collection.get(include=[])\n",
    "for id in ids['ids']:\n",
    "    print(id)\n",
    "id = input(\"Digite o ID do ficheiro que deseja eliminar: \")\n",
    "if id in ids['ids']:\n",
    "    collection.delete(ids=[id])\n",
    "    print(f\"Ficheiro {id} eliminado com sucesso.\")\n",
    "else:\n",
    "    print(f\"Ficheiro {id} não encontrado.\")"
   ]
  },
  {
   "cell_type": "markdown",
   "id": "87c51401",
   "metadata": {},
   "source": [
    "## **Conclusão**\n",
    "\n",
    "Neste projeto, desenvolvemos competências em Python, especialmente na manipulação de ficheiros e na utilização de Bases de Dados Vetoriais. A partir do ChromaDB conseguimos explorar e consolidar conhecimentos sobre Bases de Dados Vetoriais, bem como a sua integração com modelos de Machine Learning para a geração de embeddings.\n",
    "\n",
    "Relativamente a possíveis melhorias, podemos considerar a implementação de uma interface gráfica para facilitar a interação do utilizador com a aplicação, bem como ao invés de ser guardado o conteúdo inteiro do ficheiro num só vetor, poderíamos guardar *`chunks`* de texto, ou seja, pedaços de texto menores, o que poderia melhorar a precisão da pesquisa por similaridade aliado com a implementação de *`LLMs`* (*Large Language Models*) para melhorar a resposta da aplicação às consultas do utilizador, tornando-a mais inteligente e adaptativa.\n",
    "## **Referências**\n",
    "https://www.trychroma.com/\n",
    "\n",
    "https://www.couchbase.com/blog/embedding-models/#:~:text=Embedding%20models%20are%20a%20type,%2C%20low%2Ddimensional%20vector%20space\n",
    "\n",
    "https://medium.com/@nay1228/embedding-models-a-comprehensive-guide-for-beginners-to-experts-0cfc11d449f1\n",
    "\n",
    "https://www.sbert.net/docs/sentence_transformer/pretrained_models.html"
   ]
  }
 ],
 "metadata": {
  "kernelspec": {
   "display_name": "Python 3",
   "language": "python",
   "name": "python3"
  },
  "language_info": {
   "codemirror_mode": {
    "name": "ipython",
    "version": 3
   },
   "file_extension": ".py",
   "mimetype": "text/x-python",
   "name": "python",
   "nbconvert_exporter": "python",
   "pygments_lexer": "ipython3",
   "version": "3.13.2"
  }
 },
 "nbformat": 4,
 "nbformat_minor": 5
}
